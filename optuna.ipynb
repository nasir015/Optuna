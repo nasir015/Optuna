{
 "cells": [
  {
   "cell_type": "code",
   "execution_count": 1,
   "metadata": {},
   "outputs": [],
   "source": [
    "import optuna\n",
    "import pandas as pd\n",
    "from sklearn.model_selection import train_test_split\n",
    "from sklearn.preprocessing import StandardScaler"
   ]
  },
  {
   "cell_type": "code",
   "execution_count": 2,
   "metadata": {},
   "outputs": [
    {
     "data": {
      "text/plain": [
       "(768, 9)"
      ]
     },
     "execution_count": 2,
     "metadata": {},
     "output_type": "execute_result"
    }
   ],
   "source": [
    "df = pd.read_csv('diabetes.csv')\n",
    "df.head()\n",
    "df.shape"
   ]
  },
  {
   "cell_type": "code",
   "execution_count": 3,
   "metadata": {},
   "outputs": [
    {
     "name": "stdout",
     "output_type": "stream",
     "text": [
      "Pregnancies                 0\n",
      "Glucose                     0\n",
      "BloodPressure               0\n",
      "SkinThickness               0\n",
      "Insulin                     0\n",
      "BMI                         0\n",
      "DiabetesPedigreeFunction    0\n",
      "Age                         0\n",
      "Outcome                     0\n",
      "dtype: int64\n"
     ]
    }
   ],
   "source": [
    "import numpy as np\n",
    "\n",
    "cols_with_missing_values = ['Glucose', 'BloodPressure', 'SkinThickness', 'Insulin', 'BMI']\n",
    "df[cols_with_missing_values] = df[cols_with_missing_values].replace(0, np.nan)\n",
    "\n",
    "df.fillna(df.mean(), inplace=True)\n",
    "\n",
    "print(df.isnull().sum())"
   ]
  },
  {
   "cell_type": "code",
   "execution_count": 4,
   "metadata": {},
   "outputs": [
    {
     "name": "stdout",
     "output_type": "stream",
     "text": [
      "(614, 8) (154, 8) (614,) (154,)\n"
     ]
    }
   ],
   "source": [
    "X = df.drop('Outcome', axis=1)\n",
    "y = df['Outcome']\n",
    "\n",
    "X_train, X_test, y_train, y_test = train_test_split(X, y, test_size=0.2, random_state=42)\n",
    "\n",
    "scaler = StandardScaler()\n",
    "X_train = scaler.fit_transform(X_train)\n",
    "X_test = scaler.transform(X_test)\n",
    "\n",
    "print(X_train.shape, X_test.shape, y_train.shape, y_test.shape)"
   ]
  },
  {
   "cell_type": "code",
   "execution_count": 5,
   "metadata": {},
   "outputs": [],
   "source": [
    "from sklearn.ensemble import RandomForestClassifier\n",
    "from sklearn.model_selection import cross_val_score\n",
    "\n",
    "def objective(trial):\n",
    "    n_estimators = trial.suggest_int('n_estimators', 2, 100)\n",
    "    max_depth = trial.suggest_int('max_depth', 1, 32)\n",
    "    min_samples_split = trial.suggest_int('min_samples_split', 2, 20)\n",
    "    min_samples_leaf = trial.suggest_int('min_samples_leaf', 1, 20)\n",
    "    \n",
    "    model = RandomForestClassifier(\n",
    "        n_estimators=n_estimators,\n",
    "        max_depth=max_depth,\n",
    "        min_samples_split=min_samples_split,\n",
    "        min_samples_leaf=min_samples_leaf,\n",
    "        random_state=42\n",
    "    )\n",
    "    \n",
    "    score = cross_val_score(model, X_train, y_train, cv=5).mean()\n",
    "    return score"
   ]
  },
  {
   "cell_type": "code",
   "execution_count": 6,
   "metadata": {},
   "outputs": [
    {
     "name": "stderr",
     "output_type": "stream",
     "text": [
      "[I 2025-01-24 09:20:18,364] A new study created in memory with name: no-name-a57a4d83-06b4-4e97-a69d-c413a0c3255b\n",
      "[I 2025-01-24 09:20:19,882] Trial 0 finished with value: 0.7720511795281888 and parameters: {'n_estimators': 87, 'max_depth': 15, 'min_samples_split': 12, 'min_samples_leaf': 3}. Best is trial 0 with value: 0.7720511795281888.\n",
      "[I 2025-01-24 09:20:21,071] Trial 1 finished with value: 0.7622417699586832 and parameters: {'n_estimators': 64, 'max_depth': 13, 'min_samples_split': 19, 'min_samples_leaf': 1}. Best is trial 0 with value: 0.7720511795281888.\n",
      "[I 2025-01-24 09:20:21,790] Trial 2 finished with value: 0.7704251632680262 and parameters: {'n_estimators': 45, 'max_depth': 13, 'min_samples_split': 7, 'min_samples_leaf': 12}. Best is trial 0 with value: 0.7720511795281888.\n",
      "[I 2025-01-24 09:20:23,227] Trial 3 finished with value: 0.7491936558709849 and parameters: {'n_estimators': 100, 'max_depth': 30, 'min_samples_split': 16, 'min_samples_leaf': 18}. Best is trial 0 with value: 0.7720511795281888.\n",
      "[I 2025-01-24 09:20:24,158] Trial 4 finished with value: 0.776942556310809 and parameters: {'n_estimators': 65, 'max_depth': 6, 'min_samples_split': 8, 'min_samples_leaf': 1}. Best is trial 4 with value: 0.776942556310809.\n",
      "[I 2025-01-24 09:20:24,690] Trial 5 finished with value: 0.7753698520591763 and parameters: {'n_estimators': 33, 'max_depth': 5, 'min_samples_split': 17, 'min_samples_leaf': 8}. Best is trial 4 with value: 0.776942556310809.\n",
      "[I 2025-01-24 09:20:24,799] Trial 6 finished with value: 0.7524456883913101 and parameters: {'n_estimators': 5, 'max_depth': 21, 'min_samples_split': 9, 'min_samples_leaf': 12}. Best is trial 4 with value: 0.776942556310809.\n",
      "[I 2025-01-24 09:20:25,223] Trial 7 finished with value: 0.7785419165667067 and parameters: {'n_estimators': 33, 'max_depth': 27, 'min_samples_split': 15, 'min_samples_leaf': 12}. Best is trial 7 with value: 0.7785419165667067.\n",
      "[I 2025-01-24 09:20:26,453] Trial 8 finished with value: 0.7638811142209783 and parameters: {'n_estimators': 90, 'max_depth': 30, 'min_samples_split': 5, 'min_samples_leaf': 15}. Best is trial 7 with value: 0.7785419165667067.\n",
      "[I 2025-01-24 09:20:26,935] Trial 9 finished with value: 0.7573770491803279 and parameters: {'n_estimators': 38, 'max_depth': 12, 'min_samples_split': 4, 'min_samples_leaf': 14}. Best is trial 7 with value: 0.7785419165667067.\n",
      "[I 2025-01-24 09:20:27,123] Trial 10 finished with value: 0.7622550979608156 and parameters: {'n_estimators': 11, 'max_depth': 23, 'min_samples_split': 13, 'min_samples_leaf': 7}. Best is trial 7 with value: 0.7785419165667067.\n",
      "[I 2025-01-24 09:20:27,974] Trial 11 finished with value: 0.6937891510062643 and parameters: {'n_estimators': 63, 'max_depth': 1, 'min_samples_split': 14, 'min_samples_leaf': 5}. Best is trial 7 with value: 0.7785419165667067.\n",
      "[I 2025-01-24 09:20:28,358] Trial 12 finished with value: 0.7524856723977076 and parameters: {'n_estimators': 25, 'max_depth': 7, 'min_samples_split': 9, 'min_samples_leaf': 20}. Best is trial 7 with value: 0.7785419165667067.\n",
      "[I 2025-01-24 09:20:29,391] Trial 13 finished with value: 0.7720245235239236 and parameters: {'n_estimators': 61, 'max_depth': 21, 'min_samples_split': 10, 'min_samples_leaf': 9}. Best is trial 7 with value: 0.7785419165667067.\n",
      "[I 2025-01-24 09:20:30,590] Trial 14 finished with value: 0.7785552445688391 and parameters: {'n_estimators': 76, 'max_depth': 26, 'min_samples_split': 2, 'min_samples_leaf': 5}. Best is trial 14 with value: 0.7785552445688391.\n",
      "[I 2025-01-24 09:20:31,606] Trial 15 finished with value: 0.7769292283086766 and parameters: {'n_estimators': 77, 'max_depth': 27, 'min_samples_split': 3, 'min_samples_leaf': 5}. Best is trial 14 with value: 0.7785552445688391.\n",
      "[I 2025-01-24 09:20:32,106] Trial 16 finished with value: 0.7720245235239238 and parameters: {'n_estimators': 19, 'max_depth': 26, 'min_samples_split': 20, 'min_samples_leaf': 10}. Best is trial 14 with value: 0.7785552445688391.\n",
      "[I 2025-01-24 09:20:32,907] Trial 17 finished with value: 0.758989737438358 and parameters: {'n_estimators': 49, 'max_depth': 32, 'min_samples_split': 2, 'min_samples_leaf': 16}. Best is trial 14 with value: 0.7785552445688391.\n",
      "[I 2025-01-24 09:20:33,524] Trial 18 finished with value: 0.7655204584832733 and parameters: {'n_estimators': 34, 'max_depth': 18, 'min_samples_split': 15, 'min_samples_leaf': 6}. Best is trial 14 with value: 0.7785552445688391.\n",
      "[I 2025-01-24 09:20:34,723] Trial 19 finished with value: 0.7752898840463814 and parameters: {'n_estimators': 75, 'max_depth': 26, 'min_samples_split': 6, 'min_samples_leaf': 11}. Best is trial 14 with value: 0.7785552445688391.\n",
      "[I 2025-01-24 09:20:35,741] Trial 20 finished with value: 0.767119818739171 and parameters: {'n_estimators': 56, 'max_depth': 23, 'min_samples_split': 18, 'min_samples_leaf': 3}. Best is trial 14 with value: 0.7785552445688391.\n",
      "[I 2025-01-24 09:20:37,173] Trial 21 finished with value: 0.7769825403172066 and parameters: {'n_estimators': 72, 'max_depth': 8, 'min_samples_split': 7, 'min_samples_leaf': 3}. Best is trial 14 with value: 0.7785552445688391.\n",
      "[I 2025-01-24 09:20:38,239] Trial 22 finished with value: 0.7752765560442489 and parameters: {'n_estimators': 77, 'max_depth': 28, 'min_samples_split': 11, 'min_samples_leaf': 3}. Best is trial 14 with value: 0.7785552445688391.\n",
      "[I 2025-01-24 09:20:39,476] Trial 23 finished with value: 0.7720245235239237 and parameters: {'n_estimators': 88, 'max_depth': 18, 'min_samples_split': 2, 'min_samples_leaf': 4}. Best is trial 14 with value: 0.7785552445688391.\n",
      "[I 2025-01-24 09:20:40,369] Trial 24 finished with value: 0.7703851792616287 and parameters: {'n_estimators': 72, 'max_depth': 11, 'min_samples_split': 5, 'min_samples_leaf': 8}. Best is trial 14 with value: 0.7785552445688391.\n",
      "[I 2025-01-24 09:20:41,140] Trial 25 finished with value: 0.768812475009996 and parameters: {'n_estimators': 55, 'max_depth': 23, 'min_samples_split': 7, 'min_samples_leaf': 13}. Best is trial 14 with value: 0.7785552445688391.\n",
      "[I 2025-01-24 09:20:41,724] Trial 26 finished with value: 0.7703985072637611 and parameters: {'n_estimators': 40, 'max_depth': 9, 'min_samples_split': 12, 'min_samples_leaf': 1}. Best is trial 14 with value: 0.7785552445688391.\n",
      "[I 2025-01-24 09:20:42,089] Trial 27 finished with value: 0.7687591630014661 and parameters: {'n_estimators': 27, 'max_depth': 17, 'min_samples_split': 4, 'min_samples_leaf': 6}. Best is trial 14 with value: 0.7785552445688391.\n",
      "[I 2025-01-24 09:20:43,499] Trial 28 finished with value: 0.7622550979608157 and parameters: {'n_estimators': 97, 'max_depth': 20, 'min_samples_split': 15, 'min_samples_leaf': 10}. Best is trial 14 with value: 0.7785552445688391.\n",
      "[I 2025-01-24 09:20:44,726] Trial 29 finished with value: 0.7524856723977076 and parameters: {'n_estimators': 82, 'max_depth': 3, 'min_samples_split': 12, 'min_samples_leaf': 2}. Best is trial 14 with value: 0.7785552445688391.\n",
      "[I 2025-01-24 09:20:45,658] Trial 30 finished with value: 0.7753032120485139 and parameters: {'n_estimators': 69, 'max_depth': 15, 'min_samples_split': 10, 'min_samples_leaf': 4}. Best is trial 14 with value: 0.7785552445688391.\n",
      "[I 2025-01-24 09:20:46,924] Trial 31 finished with value: 0.7818339330934292 and parameters: {'n_estimators': 69, 'max_depth': 7, 'min_samples_split': 8, 'min_samples_leaf': 2}. Best is trial 31 with value: 0.7818339330934292.\n",
      "[I 2025-01-24 09:20:48,137] Trial 32 finished with value: 0.7720511795281888 and parameters: {'n_estimators': 80, 'max_depth': 8, 'min_samples_split': 8, 'min_samples_leaf': 2}. Best is trial 31 with value: 0.7818339330934292.\n",
      "[I 2025-01-24 09:20:49,906] Trial 33 finished with value: 0.7687591630014661 and parameters: {'n_estimators': 68, 'max_depth': 4, 'min_samples_split': 6, 'min_samples_leaf': 3}. Best is trial 31 with value: 0.7818339330934292.\n",
      "[I 2025-01-24 09:20:51,061] Trial 34 finished with value: 0.7720511795281888 and parameters: {'n_estimators': 57, 'max_depth': 14, 'min_samples_split': 8, 'min_samples_leaf': 5}. Best is trial 31 with value: 0.7818339330934292.\n",
      "[I 2025-01-24 09:20:52,063] Trial 35 finished with value: 0.7736238837798214 and parameters: {'n_estimators': 49, 'max_depth': 32, 'min_samples_split': 11, 'min_samples_leaf': 1}. Best is trial 31 with value: 0.7818339330934292.\n",
      "[I 2025-01-24 09:20:53,795] Trial 36 finished with value: 0.7687458349993335 and parameters: {'n_estimators': 84, 'max_depth': 9, 'min_samples_split': 7, 'min_samples_leaf': 7}. Best is trial 31 with value: 0.7818339330934292.\n",
      "[I 2025-01-24 09:20:55,109] Trial 37 finished with value: 0.7622950819672132 and parameters: {'n_estimators': 72, 'max_depth': 11, 'min_samples_split': 17, 'min_samples_leaf': 2}. Best is trial 31 with value: 0.7818339330934292.\n",
      "[I 2025-01-24 09:20:55,860] Trial 38 finished with value: 0.7377848860455818 and parameters: {'n_estimators': 45, 'max_depth': 2, 'min_samples_split': 4, 'min_samples_leaf': 17}. Best is trial 31 with value: 0.7818339330934292.\n",
      "[I 2025-01-24 09:20:57,626] Trial 39 finished with value: 0.7655204584832733 and parameters: {'n_estimators': 93, 'max_depth': 29, 'min_samples_split': 6, 'min_samples_leaf': 12}. Best is trial 31 with value: 0.7818339330934292.\n",
      "[I 2025-01-24 09:20:58,659] Trial 40 finished with value: 0.7557243769159003 and parameters: {'n_estimators': 61, 'max_depth': 5, 'min_samples_split': 13, 'min_samples_leaf': 14}. Best is trial 31 with value: 0.7818339330934292.\n",
      "[I 2025-01-24 09:20:59,760] Trial 41 finished with value: 0.7687724910035985 and parameters: {'n_estimators': 66, 'max_depth': 7, 'min_samples_split': 8, 'min_samples_leaf': 4}. Best is trial 31 with value: 0.7818339330934292.\n",
      "[I 2025-01-24 09:21:00,840] Trial 42 finished with value: 0.7752632280421164 and parameters: {'n_estimators': 72, 'max_depth': 5, 'min_samples_split': 9, 'min_samples_leaf': 1}. Best is trial 31 with value: 0.7818339330934292.\n",
      "[I 2025-01-24 09:21:01,707] Trial 43 finished with value: 0.7622684259629482 and parameters: {'n_estimators': 64, 'max_depth': 6, 'min_samples_split': 5, 'min_samples_leaf': 2}. Best is trial 31 with value: 0.7818339330934292.\n",
      "[I 2025-01-24 09:21:02,912] Trial 44 finished with value: 0.7769025723044115 and parameters: {'n_estimators': 84, 'max_depth': 10, 'min_samples_split': 10, 'min_samples_leaf': 3}. Best is trial 31 with value: 0.7818339330934292.\n",
      "[I 2025-01-24 09:21:03,134] Trial 45 finished with value: 0.7476209516193523 and parameters: {'n_estimators': 8, 'max_depth': 25, 'min_samples_split': 7, 'min_samples_leaf': 1}. Best is trial 31 with value: 0.7818339330934292.\n",
      "[I 2025-01-24 09:21:03,693] Trial 46 finished with value: 0.6693989071038252 and parameters: {'n_estimators': 43, 'max_depth': 1, 'min_samples_split': 3, 'min_samples_leaf': 6}. Best is trial 31 with value: 0.7818339330934292.\n",
      "[I 2025-01-24 09:21:03,993] Trial 47 finished with value: 0.7719978675196588 and parameters: {'n_estimators': 15, 'max_depth': 13, 'min_samples_split': 9, 'min_samples_leaf': 4}. Best is trial 31 with value: 0.7818339330934292.\n",
      "[I 2025-01-24 09:21:04,743] Trial 48 finished with value: 0.7687858190057311 and parameters: {'n_estimators': 58, 'max_depth': 7, 'min_samples_split': 11, 'min_samples_leaf': 8}. Best is trial 31 with value: 0.7818339330934292.\n",
      "[I 2025-01-24 09:21:05,513] Trial 49 finished with value: 0.7703851792616287 and parameters: {'n_estimators': 53, 'max_depth': 25, 'min_samples_split': 14, 'min_samples_leaf': 11}. Best is trial 31 with value: 0.7818339330934292.\n",
      "[I 2025-01-24 09:21:06,527] Trial 50 finished with value: 0.7655204584832733 and parameters: {'n_estimators': 75, 'max_depth': 30, 'min_samples_split': 20, 'min_samples_leaf': 5}. Best is trial 31 with value: 0.7818339330934292.\n",
      "[I 2025-01-24 09:21:07,625] Trial 51 finished with value: 0.7622284419565506 and parameters: {'n_estimators': 81, 'max_depth': 28, 'min_samples_split': 3, 'min_samples_leaf': 7}. Best is trial 31 with value: 0.7818339330934292.\n",
      "[I 2025-01-24 09:21:08,711] Trial 52 finished with value: 0.7638677862188457 and parameters: {'n_estimators': 78, 'max_depth': 26, 'min_samples_split': 3, 'min_samples_leaf': 3}. Best is trial 31 with value: 0.7818339330934292.\n",
      "[I 2025-01-24 09:21:09,689] Trial 53 finished with value: 0.7752898840463814 and parameters: {'n_estimators': 69, 'max_depth': 24, 'min_samples_split': 2, 'min_samples_leaf': 5}. Best is trial 31 with value: 0.7818339330934292.\n",
      "[I 2025-01-24 09:21:10,592] Trial 54 finished with value: 0.7638677862188458 and parameters: {'n_estimators': 62, 'max_depth': 28, 'min_samples_split': 5, 'min_samples_leaf': 2}. Best is trial 31 with value: 0.7818339330934292.\n",
      "[I 2025-01-24 09:21:11,726] Trial 55 finished with value: 0.7687858190057311 and parameters: {'n_estimators': 92, 'max_depth': 22, 'min_samples_split': 4, 'min_samples_leaf': 13}. Best is trial 31 with value: 0.7818339330934292.\n",
      "[I 2025-01-24 09:21:12,124] Trial 56 finished with value: 0.7753165400506463 and parameters: {'n_estimators': 27, 'max_depth': 30, 'min_samples_split': 6, 'min_samples_leaf': 9}. Best is trial 31 with value: 0.7818339330934292.\n",
      "[I 2025-01-24 09:21:13,328] Trial 57 finished with value: 0.7687591630014661 and parameters: {'n_estimators': 87, 'max_depth': 27, 'min_samples_split': 2, 'min_samples_leaf': 4}. Best is trial 31 with value: 0.7818339330934292.\n",
      "[I 2025-01-24 09:21:14,341] Trial 58 finished with value: 0.7752632280421166 and parameters: {'n_estimators': 75, 'max_depth': 20, 'min_samples_split': 18, 'min_samples_leaf': 6}. Best is trial 31 with value: 0.7818339330934292.\n",
      "[I 2025-01-24 09:21:14,714] Trial 59 finished with value: 0.7573637211781954 and parameters: {'n_estimators': 22, 'max_depth': 31, 'min_samples_split': 8, 'min_samples_leaf': 2}. Best is trial 31 with value: 0.7818339330934292.\n",
      "[I 2025-01-24 09:21:14,806] Trial 60 finished with value: 0.7475809676129548 and parameters: {'n_estimators': 2, 'max_depth': 4, 'min_samples_split': 5, 'min_samples_leaf': 9}. Best is trial 31 with value: 0.7818339330934292.\n",
      "[I 2025-01-24 09:21:15,961] Trial 61 finished with value: 0.7736638677862189 and parameters: {'n_estimators': 84, 'max_depth': 11, 'min_samples_split': 10, 'min_samples_leaf': 3}. Best is trial 31 with value: 0.7818339330934292.\n",
      "[I 2025-01-24 09:21:17,047] Trial 62 finished with value: 0.7817939490870318 and parameters: {'n_estimators': 78, 'max_depth': 9, 'min_samples_split': 9, 'min_samples_leaf': 3}. Best is trial 31 with value: 0.7818339330934292.\n",
      "[I 2025-01-24 09:21:18,027] Trial 63 finished with value: 0.7508463281354125 and parameters: {'n_estimators': 78, 'max_depth': 9, 'min_samples_split': 9, 'min_samples_leaf': 20}. Best is trial 31 with value: 0.7818339330934292.\n",
      "[I 2025-01-24 09:21:18,508] Trial 64 finished with value: 0.7687991470078636 and parameters: {'n_estimators': 33, 'max_depth': 8, 'min_samples_split': 12, 'min_samples_leaf': 1}. Best is trial 31 with value: 0.7818339330934292.\n",
      "[I 2025-01-24 09:21:19,525] Trial 65 finished with value: 0.7769292283086766 and parameters: {'n_estimators': 72, 'max_depth': 6, 'min_samples_split': 7, 'min_samples_leaf': 5}. Best is trial 31 with value: 0.7818339330934292.\n",
      "[I 2025-01-24 09:21:20,494] Trial 66 finished with value: 0.7655071304811408 and parameters: {'n_estimators': 67, 'max_depth': 16, 'min_samples_split': 8, 'min_samples_leaf': 3}. Best is trial 31 with value: 0.7818339330934292.\n",
      "[I 2025-01-24 09:21:21,323] Trial 67 finished with value: 0.7687724910035986 and parameters: {'n_estimators': 59, 'max_depth': 13, 'min_samples_split': 3, 'min_samples_leaf': 4}. Best is trial 31 with value: 0.7818339330934292.\n",
      "[I 2025-01-24 09:21:22,156] Trial 68 finished with value: 0.759016393442623 and parameters: {'n_estimators': 65, 'max_depth': 10, 'min_samples_split': 9, 'min_samples_leaf': 15}. Best is trial 31 with value: 0.7818339330934292.\n",
      "[I 2025-01-24 09:21:23,044] Trial 69 finished with value: 0.7671598027455685 and parameters: {'n_estimators': 69, 'max_depth': 4, 'min_samples_split': 6, 'min_samples_leaf': 2}. Best is trial 31 with value: 0.7818339330934292.\n",
      "[I 2025-01-24 09:21:24,157] Trial 70 finished with value: 0.7687858190057311 and parameters: {'n_estimators': 75, 'max_depth': 6, 'min_samples_split': 16, 'min_samples_leaf': 12}. Best is trial 31 with value: 0.7818339330934292.\n",
      "[I 2025-01-24 09:21:25,175] Trial 71 finished with value: 0.7752765560442489 and parameters: {'n_estimators': 72, 'max_depth': 8, 'min_samples_split': 7, 'min_samples_leaf': 5}. Best is trial 31 with value: 0.7818339330934292.\n",
      "[I 2025-01-24 09:21:26,074] Trial 72 finished with value: 0.7410902305744369 and parameters: {'n_estimators': 72, 'max_depth': 2, 'min_samples_split': 7, 'min_samples_leaf': 5}. Best is trial 31 with value: 0.7818339330934292.\n",
      "[I 2025-01-24 09:21:27,144] Trial 73 finished with value: 0.7703985072637611 and parameters: {'n_estimators': 80, 'max_depth': 6, 'min_samples_split': 7, 'min_samples_leaf': 7}. Best is trial 31 with value: 0.7818339330934292.\n",
      "[I 2025-01-24 09:21:28,107] Trial 74 finished with value: 0.7737038517926164 and parameters: {'n_estimators': 77, 'max_depth': 27, 'min_samples_split': 10, 'min_samples_leaf': 13}. Best is trial 31 with value: 0.7818339330934292.\n",
      "[I 2025-01-24 09:21:29,360] Trial 75 finished with value: 0.7736905237904839 and parameters: {'n_estimators': 89, 'max_depth': 7, 'min_samples_split': 8, 'min_samples_leaf': 1}. Best is trial 31 with value: 0.7818339330934292.\n",
      "[I 2025-01-24 09:21:30,074] Trial 76 finished with value: 0.7687724910035986 and parameters: {'n_estimators': 51, 'max_depth': 12, 'min_samples_split': 13, 'min_samples_leaf': 4}. Best is trial 31 with value: 0.7818339330934292.\n",
      "[I 2025-01-24 09:21:30,974] Trial 77 finished with value: 0.7541250166600026 and parameters: {'n_estimators': 70, 'max_depth': 3, 'min_samples_split': 9, 'min_samples_leaf': 6}. Best is trial 31 with value: 0.7818339330934292.\n",
      "[I 2025-01-24 09:21:32,058] Trial 78 finished with value: 0.7524723443955752 and parameters: {'n_estimators': 84, 'max_depth': 6, 'min_samples_split': 4, 'min_samples_leaf': 19}. Best is trial 31 with value: 0.7818339330934292.\n",
      "[I 2025-01-24 09:21:32,929] Trial 79 finished with value: 0.7736505397840864 and parameters: {'n_estimators': 64, 'max_depth': 5, 'min_samples_split': 2, 'min_samples_leaf': 4}. Best is trial 31 with value: 0.7818339330934292.\n",
      "[I 2025-01-24 09:21:33,974] Trial 80 finished with value: 0.759016393442623 and parameters: {'n_estimators': 74, 'max_depth': 10, 'min_samples_split': 6, 'min_samples_leaf': 2}. Best is trial 31 with value: 0.7818339330934292.\n",
      "[I 2025-01-24 09:21:35,107] Trial 81 finished with value: 0.7801546048247368 and parameters: {'n_estimators': 80, 'max_depth': 10, 'min_samples_split': 10, 'min_samples_leaf': 3}. Best is trial 31 with value: 0.7818339330934292.\n",
      "[I 2025-01-24 09:21:36,206] Trial 82 finished with value: 0.7785285885645742 and parameters: {'n_estimators': 79, 'max_depth': 8, 'min_samples_split': 11, 'min_samples_leaf': 3}. Best is trial 31 with value: 0.7818339330934292.\n",
      "[I 2025-01-24 09:21:37,374] Trial 83 finished with value: 0.7768892443022791 and parameters: {'n_estimators': 87, 'max_depth': 8, 'min_samples_split': 11, 'min_samples_leaf': 3}. Best is trial 31 with value: 0.7818339330934292.\n",
      "[I 2025-01-24 09:21:38,658] Trial 84 finished with value: 0.7687724910035986 and parameters: {'n_estimators': 82, 'max_depth': 9, 'min_samples_split': 11, 'min_samples_leaf': 1}. Best is trial 31 with value: 0.7818339330934292.\n",
      "[I 2025-01-24 09:21:39,728] Trial 85 finished with value: 0.7736771957883514 and parameters: {'n_estimators': 78, 'max_depth': 12, 'min_samples_split': 12, 'min_samples_leaf': 3}. Best is trial 31 with value: 0.7818339330934292.\n",
      "[I 2025-01-24 09:21:41,128] Trial 86 finished with value: 0.7703851792616287 and parameters: {'n_estimators': 98, 'max_depth': 25, 'min_samples_split': 10, 'min_samples_leaf': 2}. Best is trial 31 with value: 0.7818339330934292.\n",
      "[I 2025-01-24 09:21:42,240] Trial 87 finished with value: 0.7769425563108091 and parameters: {'n_estimators': 82, 'max_depth': 29, 'min_samples_split': 14, 'min_samples_leaf': 3}. Best is trial 31 with value: 0.7818339330934292.\n",
      "[I 2025-01-24 09:21:43,391] Trial 88 finished with value: 0.7752898840463814 and parameters: {'n_estimators': 82, 'max_depth': 29, 'min_samples_split': 15, 'min_samples_leaf': 3}. Best is trial 31 with value: 0.7818339330934292.\n",
      "[I 2025-01-24 09:21:44,526] Trial 89 finished with value: 0.7687591630014661 and parameters: {'n_estimators': 92, 'max_depth': 10, 'min_samples_split': 16, 'min_samples_leaf': 11}. Best is trial 31 with value: 0.7818339330934292.\n",
      "[I 2025-01-24 09:21:45,524] Trial 90 finished with value: 0.7785685725709717 and parameters: {'n_estimators': 60, 'max_depth': 7, 'min_samples_split': 14, 'min_samples_leaf': 1}. Best is trial 31 with value: 0.7818339330934292.\n",
      "[I 2025-01-24 09:21:46,389] Trial 91 finished with value: 0.7687858190057311 and parameters: {'n_estimators': 60, 'max_depth': 7, 'min_samples_split': 13, 'min_samples_leaf': 1}. Best is trial 31 with value: 0.7818339330934292.\n",
      "[I 2025-01-24 09:21:47,308] Trial 92 finished with value: 0.7704384912701586 and parameters: {'n_estimators': 67, 'max_depth': 8, 'min_samples_split': 14, 'min_samples_leaf': 2}. Best is trial 31 with value: 0.7818339330934292.\n",
      "[I 2025-01-24 09:21:48,146] Trial 93 finished with value: 0.7704118352658936 and parameters: {'n_estimators': 55, 'max_depth': 9, 'min_samples_split': 14, 'min_samples_leaf': 1}. Best is trial 31 with value: 0.7818339330934292.\n",
      "[I 2025-01-24 09:21:49,242] Trial 94 finished with value: 0.7573370651739304 and parameters: {'n_estimators': 86, 'max_depth': 5, 'min_samples_split': 15, 'min_samples_leaf': 2}. Best is trial 31 with value: 0.7818339330934292.\n",
      "[I 2025-01-24 09:21:50,140] Trial 95 finished with value: 0.7768892443022791 and parameters: {'n_estimators': 62, 'max_depth': 7, 'min_samples_split': 11, 'min_samples_leaf': 3}. Best is trial 31 with value: 0.7818339330934292.\n",
      "[I 2025-01-24 09:21:51,225] Trial 96 finished with value: 0.776915900306544 and parameters: {'n_estimators': 80, 'max_depth': 29, 'min_samples_split': 12, 'min_samples_leaf': 3}. Best is trial 31 with value: 0.7818339330934292.\n",
      "[I 2025-01-24 09:21:52,294] Trial 97 finished with value: 0.775303212048514 and parameters: {'n_estimators': 76, 'max_depth': 31, 'min_samples_split': 16, 'min_samples_leaf': 1}. Best is trial 31 with value: 0.7818339330934292.\n",
      "[I 2025-01-24 09:21:53,259] Trial 98 finished with value: 0.7752765560442489 and parameters: {'n_estimators': 70, 'max_depth': 11, 'min_samples_split': 14, 'min_samples_leaf': 2}. Best is trial 31 with value: 0.7818339330934292.\n",
      "[I 2025-01-24 09:21:54,294] Trial 99 finished with value: 0.7720111955217913 and parameters: {'n_estimators': 74, 'max_depth': 14, 'min_samples_split': 9, 'min_samples_leaf': 4}. Best is trial 31 with value: 0.7818339330934292.\n"
     ]
    }
   ],
   "source": [
    "study = optuna.create_study(direction='maximize',sampler=optuna.samplers.TPESampler())\n",
    "study.optimize(objective, n_trials=100)"
   ]
  },
  {
   "cell_type": "code",
   "execution_count": 7,
   "metadata": {},
   "outputs": [
    {
     "name": "stdout",
     "output_type": "stream",
     "text": [
      "{'n_estimators': 69, 'max_depth': 7, 'min_samples_split': 8, 'min_samples_leaf': 2}\n",
      "0.7818339330934292\n"
     ]
    }
   ],
   "source": [
    "print(study.best_params)   \n",
    "print(study.best_value)"
   ]
  },
  {
   "cell_type": "code",
   "execution_count": 8,
   "metadata": {},
   "outputs": [
    {
     "name": "stdout",
     "output_type": "stream",
     "text": [
      "0.7597402597402597\n"
     ]
    }
   ],
   "source": [
    "from sklearn.metrics import accuracy_score\n",
    "\n",
    "\n",
    "best_model = RandomForestClassifier(**study.best_params, random_state=42)\n",
    "best_model.fit(X_train, y_train)\n",
    "\n",
    "y_pred = best_model.predict(X_test)\n",
    "\n",
    "test_accuracy = accuracy_score(y_test, y_pred)\n",
    "print(test_accuracy)"
   ]
  },
  {
   "cell_type": "markdown",
   "metadata": {},
   "source": [
    "# Optuna Visualization"
   ]
  },
  {
   "cell_type": "code",
   "execution_count": 19,
   "metadata": {},
   "outputs": [],
   "source": [
    "# for visualization\n",
    "\n",
    "from optuna.visualization import plot_optimization_history, plot_param_importances, plot_slice, plot_contour, plot_parallel_coordinate, plot_edf, plot_intermediate_values"
   ]
  },
  {
   "cell_type": "code",
   "execution_count": 10,
   "metadata": {},
   "outputs": [
    {
     "data": {
      "application/vnd.plotly.v1+json": {
       "config": {
        "plotlyServerURL": "https://plot.ly"
       },
       "data": [
        {
         "mode": "markers",
         "name": "Objective Value",
         "type": "scatter",
         "x": [
          0,
          1,
          2,
          3,
          4,
          5,
          6,
          7,
          8,
          9,
          10,
          11,
          12,
          13,
          14,
          15,
          16,
          17,
          18,
          19,
          20,
          21,
          22,
          23,
          24,
          25,
          26,
          27,
          28,
          29,
          30,
          31,
          32,
          33,
          34,
          35,
          36,
          37,
          38,
          39,
          40,
          41,
          42,
          43,
          44,
          45,
          46,
          47,
          48,
          49,
          50,
          51,
          52,
          53,
          54,
          55,
          56,
          57,
          58,
          59,
          60,
          61,
          62,
          63,
          64,
          65,
          66,
          67,
          68,
          69,
          70,
          71,
          72,
          73,
          74,
          75,
          76,
          77,
          78,
          79,
          80,
          81,
          82,
          83,
          84,
          85,
          86,
          87,
          88,
          89,
          90,
          91,
          92,
          93,
          94,
          95,
          96,
          97,
          98,
          99
         ],
         "y": [
          0.7720511795281888,
          0.7622417699586832,
          0.7704251632680262,
          0.7491936558709849,
          0.776942556310809,
          0.7753698520591763,
          0.7524456883913101,
          0.7785419165667067,
          0.7638811142209783,
          0.7573770491803279,
          0.7622550979608156,
          0.6937891510062643,
          0.7524856723977076,
          0.7720245235239236,
          0.7785552445688391,
          0.7769292283086766,
          0.7720245235239238,
          0.758989737438358,
          0.7655204584832733,
          0.7752898840463814,
          0.767119818739171,
          0.7769825403172066,
          0.7752765560442489,
          0.7720245235239237,
          0.7703851792616287,
          0.768812475009996,
          0.7703985072637611,
          0.7687591630014661,
          0.7622550979608157,
          0.7524856723977076,
          0.7753032120485139,
          0.7818339330934292,
          0.7720511795281888,
          0.7687591630014661,
          0.7720511795281888,
          0.7736238837798214,
          0.7687458349993335,
          0.7622950819672132,
          0.7377848860455818,
          0.7655204584832733,
          0.7557243769159003,
          0.7687724910035985,
          0.7752632280421164,
          0.7622684259629482,
          0.7769025723044115,
          0.7476209516193523,
          0.6693989071038252,
          0.7719978675196588,
          0.7687858190057311,
          0.7703851792616287,
          0.7655204584832733,
          0.7622284419565506,
          0.7638677862188457,
          0.7752898840463814,
          0.7638677862188458,
          0.7687858190057311,
          0.7753165400506463,
          0.7687591630014661,
          0.7752632280421166,
          0.7573637211781954,
          0.7475809676129548,
          0.7736638677862189,
          0.7817939490870318,
          0.7508463281354125,
          0.7687991470078636,
          0.7769292283086766,
          0.7655071304811408,
          0.7687724910035986,
          0.759016393442623,
          0.7671598027455685,
          0.7687858190057311,
          0.7752765560442489,
          0.7410902305744369,
          0.7703985072637611,
          0.7737038517926164,
          0.7736905237904839,
          0.7687724910035986,
          0.7541250166600026,
          0.7524723443955752,
          0.7736505397840864,
          0.759016393442623,
          0.7801546048247368,
          0.7785285885645742,
          0.7768892443022791,
          0.7687724910035986,
          0.7736771957883514,
          0.7703851792616287,
          0.7769425563108091,
          0.7752898840463814,
          0.7687591630014661,
          0.7785685725709717,
          0.7687858190057311,
          0.7704384912701586,
          0.7704118352658936,
          0.7573370651739304,
          0.7768892443022791,
          0.776915900306544,
          0.775303212048514,
          0.7752765560442489,
          0.7720111955217913
         ]
        },
        {
         "mode": "lines",
         "name": "Best Value",
         "type": "scatter",
         "x": [
          0,
          1,
          2,
          3,
          4,
          5,
          6,
          7,
          8,
          9,
          10,
          11,
          12,
          13,
          14,
          15,
          16,
          17,
          18,
          19,
          20,
          21,
          22,
          23,
          24,
          25,
          26,
          27,
          28,
          29,
          30,
          31,
          32,
          33,
          34,
          35,
          36,
          37,
          38,
          39,
          40,
          41,
          42,
          43,
          44,
          45,
          46,
          47,
          48,
          49,
          50,
          51,
          52,
          53,
          54,
          55,
          56,
          57,
          58,
          59,
          60,
          61,
          62,
          63,
          64,
          65,
          66,
          67,
          68,
          69,
          70,
          71,
          72,
          73,
          74,
          75,
          76,
          77,
          78,
          79,
          80,
          81,
          82,
          83,
          84,
          85,
          86,
          87,
          88,
          89,
          90,
          91,
          92,
          93,
          94,
          95,
          96,
          97,
          98,
          99
         ],
         "y": [
          0.7720511795281888,
          0.7720511795281888,
          0.7720511795281888,
          0.7720511795281888,
          0.776942556310809,
          0.776942556310809,
          0.776942556310809,
          0.7785419165667067,
          0.7785419165667067,
          0.7785419165667067,
          0.7785419165667067,
          0.7785419165667067,
          0.7785419165667067,
          0.7785419165667067,
          0.7785552445688391,
          0.7785552445688391,
          0.7785552445688391,
          0.7785552445688391,
          0.7785552445688391,
          0.7785552445688391,
          0.7785552445688391,
          0.7785552445688391,
          0.7785552445688391,
          0.7785552445688391,
          0.7785552445688391,
          0.7785552445688391,
          0.7785552445688391,
          0.7785552445688391,
          0.7785552445688391,
          0.7785552445688391,
          0.7785552445688391,
          0.7818339330934292,
          0.7818339330934292,
          0.7818339330934292,
          0.7818339330934292,
          0.7818339330934292,
          0.7818339330934292,
          0.7818339330934292,
          0.7818339330934292,
          0.7818339330934292,
          0.7818339330934292,
          0.7818339330934292,
          0.7818339330934292,
          0.7818339330934292,
          0.7818339330934292,
          0.7818339330934292,
          0.7818339330934292,
          0.7818339330934292,
          0.7818339330934292,
          0.7818339330934292,
          0.7818339330934292,
          0.7818339330934292,
          0.7818339330934292,
          0.7818339330934292,
          0.7818339330934292,
          0.7818339330934292,
          0.7818339330934292,
          0.7818339330934292,
          0.7818339330934292,
          0.7818339330934292,
          0.7818339330934292,
          0.7818339330934292,
          0.7818339330934292,
          0.7818339330934292,
          0.7818339330934292,
          0.7818339330934292,
          0.7818339330934292,
          0.7818339330934292,
          0.7818339330934292,
          0.7818339330934292,
          0.7818339330934292,
          0.7818339330934292,
          0.7818339330934292,
          0.7818339330934292,
          0.7818339330934292,
          0.7818339330934292,
          0.7818339330934292,
          0.7818339330934292,
          0.7818339330934292,
          0.7818339330934292,
          0.7818339330934292,
          0.7818339330934292,
          0.7818339330934292,
          0.7818339330934292,
          0.7818339330934292,
          0.7818339330934292,
          0.7818339330934292,
          0.7818339330934292,
          0.7818339330934292,
          0.7818339330934292,
          0.7818339330934292,
          0.7818339330934292,
          0.7818339330934292,
          0.7818339330934292,
          0.7818339330934292,
          0.7818339330934292,
          0.7818339330934292,
          0.7818339330934292,
          0.7818339330934292,
          0.7818339330934292
         ]
        },
        {
         "marker": {
          "color": "#cccccc"
         },
         "mode": "markers",
         "name": "Infeasible Trial",
         "showlegend": false,
         "type": "scatter",
         "x": [],
         "y": []
        }
       ],
       "layout": {
        "template": {
         "data": {
          "bar": [
           {
            "error_x": {
             "color": "#2a3f5f"
            },
            "error_y": {
             "color": "#2a3f5f"
            },
            "marker": {
             "line": {
              "color": "#E5ECF6",
              "width": 0.5
             },
             "pattern": {
              "fillmode": "overlay",
              "size": 10,
              "solidity": 0.2
             }
            },
            "type": "bar"
           }
          ],
          "barpolar": [
           {
            "marker": {
             "line": {
              "color": "#E5ECF6",
              "width": 0.5
             },
             "pattern": {
              "fillmode": "overlay",
              "size": 10,
              "solidity": 0.2
             }
            },
            "type": "barpolar"
           }
          ],
          "carpet": [
           {
            "aaxis": {
             "endlinecolor": "#2a3f5f",
             "gridcolor": "white",
             "linecolor": "white",
             "minorgridcolor": "white",
             "startlinecolor": "#2a3f5f"
            },
            "baxis": {
             "endlinecolor": "#2a3f5f",
             "gridcolor": "white",
             "linecolor": "white",
             "minorgridcolor": "white",
             "startlinecolor": "#2a3f5f"
            },
            "type": "carpet"
           }
          ],
          "choropleth": [
           {
            "colorbar": {
             "outlinewidth": 0,
             "ticks": ""
            },
            "type": "choropleth"
           }
          ],
          "contour": [
           {
            "colorbar": {
             "outlinewidth": 0,
             "ticks": ""
            },
            "colorscale": [
             [
              0,
              "#0d0887"
             ],
             [
              0.1111111111111111,
              "#46039f"
             ],
             [
              0.2222222222222222,
              "#7201a8"
             ],
             [
              0.3333333333333333,
              "#9c179e"
             ],
             [
              0.4444444444444444,
              "#bd3786"
             ],
             [
              0.5555555555555556,
              "#d8576b"
             ],
             [
              0.6666666666666666,
              "#ed7953"
             ],
             [
              0.7777777777777778,
              "#fb9f3a"
             ],
             [
              0.8888888888888888,
              "#fdca26"
             ],
             [
              1,
              "#f0f921"
             ]
            ],
            "type": "contour"
           }
          ],
          "contourcarpet": [
           {
            "colorbar": {
             "outlinewidth": 0,
             "ticks": ""
            },
            "type": "contourcarpet"
           }
          ],
          "heatmap": [
           {
            "colorbar": {
             "outlinewidth": 0,
             "ticks": ""
            },
            "colorscale": [
             [
              0,
              "#0d0887"
             ],
             [
              0.1111111111111111,
              "#46039f"
             ],
             [
              0.2222222222222222,
              "#7201a8"
             ],
             [
              0.3333333333333333,
              "#9c179e"
             ],
             [
              0.4444444444444444,
              "#bd3786"
             ],
             [
              0.5555555555555556,
              "#d8576b"
             ],
             [
              0.6666666666666666,
              "#ed7953"
             ],
             [
              0.7777777777777778,
              "#fb9f3a"
             ],
             [
              0.8888888888888888,
              "#fdca26"
             ],
             [
              1,
              "#f0f921"
             ]
            ],
            "type": "heatmap"
           }
          ],
          "heatmapgl": [
           {
            "colorbar": {
             "outlinewidth": 0,
             "ticks": ""
            },
            "colorscale": [
             [
              0,
              "#0d0887"
             ],
             [
              0.1111111111111111,
              "#46039f"
             ],
             [
              0.2222222222222222,
              "#7201a8"
             ],
             [
              0.3333333333333333,
              "#9c179e"
             ],
             [
              0.4444444444444444,
              "#bd3786"
             ],
             [
              0.5555555555555556,
              "#d8576b"
             ],
             [
              0.6666666666666666,
              "#ed7953"
             ],
             [
              0.7777777777777778,
              "#fb9f3a"
             ],
             [
              0.8888888888888888,
              "#fdca26"
             ],
             [
              1,
              "#f0f921"
             ]
            ],
            "type": "heatmapgl"
           }
          ],
          "histogram": [
           {
            "marker": {
             "pattern": {
              "fillmode": "overlay",
              "size": 10,
              "solidity": 0.2
             }
            },
            "type": "histogram"
           }
          ],
          "histogram2d": [
           {
            "colorbar": {
             "outlinewidth": 0,
             "ticks": ""
            },
            "colorscale": [
             [
              0,
              "#0d0887"
             ],
             [
              0.1111111111111111,
              "#46039f"
             ],
             [
              0.2222222222222222,
              "#7201a8"
             ],
             [
              0.3333333333333333,
              "#9c179e"
             ],
             [
              0.4444444444444444,
              "#bd3786"
             ],
             [
              0.5555555555555556,
              "#d8576b"
             ],
             [
              0.6666666666666666,
              "#ed7953"
             ],
             [
              0.7777777777777778,
              "#fb9f3a"
             ],
             [
              0.8888888888888888,
              "#fdca26"
             ],
             [
              1,
              "#f0f921"
             ]
            ],
            "type": "histogram2d"
           }
          ],
          "histogram2dcontour": [
           {
            "colorbar": {
             "outlinewidth": 0,
             "ticks": ""
            },
            "colorscale": [
             [
              0,
              "#0d0887"
             ],
             [
              0.1111111111111111,
              "#46039f"
             ],
             [
              0.2222222222222222,
              "#7201a8"
             ],
             [
              0.3333333333333333,
              "#9c179e"
             ],
             [
              0.4444444444444444,
              "#bd3786"
             ],
             [
              0.5555555555555556,
              "#d8576b"
             ],
             [
              0.6666666666666666,
              "#ed7953"
             ],
             [
              0.7777777777777778,
              "#fb9f3a"
             ],
             [
              0.8888888888888888,
              "#fdca26"
             ],
             [
              1,
              "#f0f921"
             ]
            ],
            "type": "histogram2dcontour"
           }
          ],
          "mesh3d": [
           {
            "colorbar": {
             "outlinewidth": 0,
             "ticks": ""
            },
            "type": "mesh3d"
           }
          ],
          "parcoords": [
           {
            "line": {
             "colorbar": {
              "outlinewidth": 0,
              "ticks": ""
             }
            },
            "type": "parcoords"
           }
          ],
          "pie": [
           {
            "automargin": true,
            "type": "pie"
           }
          ],
          "scatter": [
           {
            "fillpattern": {
             "fillmode": "overlay",
             "size": 10,
             "solidity": 0.2
            },
            "type": "scatter"
           }
          ],
          "scatter3d": [
           {
            "line": {
             "colorbar": {
              "outlinewidth": 0,
              "ticks": ""
             }
            },
            "marker": {
             "colorbar": {
              "outlinewidth": 0,
              "ticks": ""
             }
            },
            "type": "scatter3d"
           }
          ],
          "scattercarpet": [
           {
            "marker": {
             "colorbar": {
              "outlinewidth": 0,
              "ticks": ""
             }
            },
            "type": "scattercarpet"
           }
          ],
          "scattergeo": [
           {
            "marker": {
             "colorbar": {
              "outlinewidth": 0,
              "ticks": ""
             }
            },
            "type": "scattergeo"
           }
          ],
          "scattergl": [
           {
            "marker": {
             "colorbar": {
              "outlinewidth": 0,
              "ticks": ""
             }
            },
            "type": "scattergl"
           }
          ],
          "scattermapbox": [
           {
            "marker": {
             "colorbar": {
              "outlinewidth": 0,
              "ticks": ""
             }
            },
            "type": "scattermapbox"
           }
          ],
          "scatterpolar": [
           {
            "marker": {
             "colorbar": {
              "outlinewidth": 0,
              "ticks": ""
             }
            },
            "type": "scatterpolar"
           }
          ],
          "scatterpolargl": [
           {
            "marker": {
             "colorbar": {
              "outlinewidth": 0,
              "ticks": ""
             }
            },
            "type": "scatterpolargl"
           }
          ],
          "scatterternary": [
           {
            "marker": {
             "colorbar": {
              "outlinewidth": 0,
              "ticks": ""
             }
            },
            "type": "scatterternary"
           }
          ],
          "surface": [
           {
            "colorbar": {
             "outlinewidth": 0,
             "ticks": ""
            },
            "colorscale": [
             [
              0,
              "#0d0887"
             ],
             [
              0.1111111111111111,
              "#46039f"
             ],
             [
              0.2222222222222222,
              "#7201a8"
             ],
             [
              0.3333333333333333,
              "#9c179e"
             ],
             [
              0.4444444444444444,
              "#bd3786"
             ],
             [
              0.5555555555555556,
              "#d8576b"
             ],
             [
              0.6666666666666666,
              "#ed7953"
             ],
             [
              0.7777777777777778,
              "#fb9f3a"
             ],
             [
              0.8888888888888888,
              "#fdca26"
             ],
             [
              1,
              "#f0f921"
             ]
            ],
            "type": "surface"
           }
          ],
          "table": [
           {
            "cells": {
             "fill": {
              "color": "#EBF0F8"
             },
             "line": {
              "color": "white"
             }
            },
            "header": {
             "fill": {
              "color": "#C8D4E3"
             },
             "line": {
              "color": "white"
             }
            },
            "type": "table"
           }
          ]
         },
         "layout": {
          "annotationdefaults": {
           "arrowcolor": "#2a3f5f",
           "arrowhead": 0,
           "arrowwidth": 1
          },
          "autotypenumbers": "strict",
          "coloraxis": {
           "colorbar": {
            "outlinewidth": 0,
            "ticks": ""
           }
          },
          "colorscale": {
           "diverging": [
            [
             0,
             "#8e0152"
            ],
            [
             0.1,
             "#c51b7d"
            ],
            [
             0.2,
             "#de77ae"
            ],
            [
             0.3,
             "#f1b6da"
            ],
            [
             0.4,
             "#fde0ef"
            ],
            [
             0.5,
             "#f7f7f7"
            ],
            [
             0.6,
             "#e6f5d0"
            ],
            [
             0.7,
             "#b8e186"
            ],
            [
             0.8,
             "#7fbc41"
            ],
            [
             0.9,
             "#4d9221"
            ],
            [
             1,
             "#276419"
            ]
           ],
           "sequential": [
            [
             0,
             "#0d0887"
            ],
            [
             0.1111111111111111,
             "#46039f"
            ],
            [
             0.2222222222222222,
             "#7201a8"
            ],
            [
             0.3333333333333333,
             "#9c179e"
            ],
            [
             0.4444444444444444,
             "#bd3786"
            ],
            [
             0.5555555555555556,
             "#d8576b"
            ],
            [
             0.6666666666666666,
             "#ed7953"
            ],
            [
             0.7777777777777778,
             "#fb9f3a"
            ],
            [
             0.8888888888888888,
             "#fdca26"
            ],
            [
             1,
             "#f0f921"
            ]
           ],
           "sequentialminus": [
            [
             0,
             "#0d0887"
            ],
            [
             0.1111111111111111,
             "#46039f"
            ],
            [
             0.2222222222222222,
             "#7201a8"
            ],
            [
             0.3333333333333333,
             "#9c179e"
            ],
            [
             0.4444444444444444,
             "#bd3786"
            ],
            [
             0.5555555555555556,
             "#d8576b"
            ],
            [
             0.6666666666666666,
             "#ed7953"
            ],
            [
             0.7777777777777778,
             "#fb9f3a"
            ],
            [
             0.8888888888888888,
             "#fdca26"
            ],
            [
             1,
             "#f0f921"
            ]
           ]
          },
          "colorway": [
           "#636efa",
           "#EF553B",
           "#00cc96",
           "#ab63fa",
           "#FFA15A",
           "#19d3f3",
           "#FF6692",
           "#B6E880",
           "#FF97FF",
           "#FECB52"
          ],
          "font": {
           "color": "#2a3f5f"
          },
          "geo": {
           "bgcolor": "white",
           "lakecolor": "white",
           "landcolor": "#E5ECF6",
           "showlakes": true,
           "showland": true,
           "subunitcolor": "white"
          },
          "hoverlabel": {
           "align": "left"
          },
          "hovermode": "closest",
          "mapbox": {
           "style": "light"
          },
          "paper_bgcolor": "white",
          "plot_bgcolor": "#E5ECF6",
          "polar": {
           "angularaxis": {
            "gridcolor": "white",
            "linecolor": "white",
            "ticks": ""
           },
           "bgcolor": "#E5ECF6",
           "radialaxis": {
            "gridcolor": "white",
            "linecolor": "white",
            "ticks": ""
           }
          },
          "scene": {
           "xaxis": {
            "backgroundcolor": "#E5ECF6",
            "gridcolor": "white",
            "gridwidth": 2,
            "linecolor": "white",
            "showbackground": true,
            "ticks": "",
            "zerolinecolor": "white"
           },
           "yaxis": {
            "backgroundcolor": "#E5ECF6",
            "gridcolor": "white",
            "gridwidth": 2,
            "linecolor": "white",
            "showbackground": true,
            "ticks": "",
            "zerolinecolor": "white"
           },
           "zaxis": {
            "backgroundcolor": "#E5ECF6",
            "gridcolor": "white",
            "gridwidth": 2,
            "linecolor": "white",
            "showbackground": true,
            "ticks": "",
            "zerolinecolor": "white"
           }
          },
          "shapedefaults": {
           "line": {
            "color": "#2a3f5f"
           }
          },
          "ternary": {
           "aaxis": {
            "gridcolor": "white",
            "linecolor": "white",
            "ticks": ""
           },
           "baxis": {
            "gridcolor": "white",
            "linecolor": "white",
            "ticks": ""
           },
           "bgcolor": "#E5ECF6",
           "caxis": {
            "gridcolor": "white",
            "linecolor": "white",
            "ticks": ""
           }
          },
          "title": {
           "x": 0.05
          },
          "xaxis": {
           "automargin": true,
           "gridcolor": "white",
           "linecolor": "white",
           "ticks": "",
           "title": {
            "standoff": 15
           },
           "zerolinecolor": "white",
           "zerolinewidth": 2
          },
          "yaxis": {
           "automargin": true,
           "gridcolor": "white",
           "linecolor": "white",
           "ticks": "",
           "title": {
            "standoff": 15
           },
           "zerolinecolor": "white",
           "zerolinewidth": 2
          }
         }
        },
        "title": {
         "text": "Optimization History Plot"
        },
        "xaxis": {
         "title": {
          "text": "Trial"
         }
        },
        "yaxis": {
         "title": {
          "text": "Objective Value"
         }
        }
       }
      }
     },
     "metadata": {},
     "output_type": "display_data"
    }
   ],
   "source": [
    "plot_optimization_history(study).show()"
   ]
  },
  {
   "cell_type": "code",
   "execution_count": 18,
   "metadata": {},
   "outputs": [
    {
     "ename": "NameError",
     "evalue": "name 'plot_param_importances' is not defined",
     "output_type": "error",
     "traceback": [
      "\u001b[1;31m---------------------------------------------------------------------------\u001b[0m",
      "\u001b[1;31mNameError\u001b[0m                                 Traceback (most recent call last)",
      "Cell \u001b[1;32mIn[18], line 1\u001b[0m\n\u001b[1;32m----> 1\u001b[0m \u001b[43mplot_param_importances\u001b[49m(study)\u001b[38;5;241m.\u001b[39mshow()\n",
      "\u001b[1;31mNameError\u001b[0m: name 'plot_param_importances' is not defined"
     ]
    }
   ],
   "source": [
    "plot_param_importances(study).show()"
   ]
  },
  {
   "cell_type": "code",
   "execution_count": 20,
   "metadata": {},
   "outputs": [
    {
     "data": {
      "application/vnd.plotly.v1+json": {
       "config": {
        "plotlyServerURL": "https://plot.ly"
       },
       "data": [
        {
         "cliponaxis": false,
         "hovertemplate": [
          "min_samples_split (IntDistribution): 0.009087807020028649<extra></extra>",
          "n_estimators (IntDistribution): 0.07623226737706182<extra></extra>",
          "min_samples_leaf (IntDistribution): 0.2223955711070912<extra></extra>",
          "max_depth (IntDistribution): 0.6922843544958183<extra></extra>"
         ],
         "name": "Objective Value",
         "orientation": "h",
         "text": [
          "<0.01",
          "0.08",
          "0.22",
          "0.69"
         ],
         "textposition": "outside",
         "type": "bar",
         "x": [
          0.009087807020028649,
          0.07623226737706182,
          0.2223955711070912,
          0.6922843544958183
         ],
         "y": [
          "min_samples_split",
          "n_estimators",
          "min_samples_leaf",
          "max_depth"
         ]
        }
       ],
       "layout": {
        "template": {
         "data": {
          "bar": [
           {
            "error_x": {
             "color": "#2a3f5f"
            },
            "error_y": {
             "color": "#2a3f5f"
            },
            "marker": {
             "line": {
              "color": "#E5ECF6",
              "width": 0.5
             },
             "pattern": {
              "fillmode": "overlay",
              "size": 10,
              "solidity": 0.2
             }
            },
            "type": "bar"
           }
          ],
          "barpolar": [
           {
            "marker": {
             "line": {
              "color": "#E5ECF6",
              "width": 0.5
             },
             "pattern": {
              "fillmode": "overlay",
              "size": 10,
              "solidity": 0.2
             }
            },
            "type": "barpolar"
           }
          ],
          "carpet": [
           {
            "aaxis": {
             "endlinecolor": "#2a3f5f",
             "gridcolor": "white",
             "linecolor": "white",
             "minorgridcolor": "white",
             "startlinecolor": "#2a3f5f"
            },
            "baxis": {
             "endlinecolor": "#2a3f5f",
             "gridcolor": "white",
             "linecolor": "white",
             "minorgridcolor": "white",
             "startlinecolor": "#2a3f5f"
            },
            "type": "carpet"
           }
          ],
          "choropleth": [
           {
            "colorbar": {
             "outlinewidth": 0,
             "ticks": ""
            },
            "type": "choropleth"
           }
          ],
          "contour": [
           {
            "colorbar": {
             "outlinewidth": 0,
             "ticks": ""
            },
            "colorscale": [
             [
              0,
              "#0d0887"
             ],
             [
              0.1111111111111111,
              "#46039f"
             ],
             [
              0.2222222222222222,
              "#7201a8"
             ],
             [
              0.3333333333333333,
              "#9c179e"
             ],
             [
              0.4444444444444444,
              "#bd3786"
             ],
             [
              0.5555555555555556,
              "#d8576b"
             ],
             [
              0.6666666666666666,
              "#ed7953"
             ],
             [
              0.7777777777777778,
              "#fb9f3a"
             ],
             [
              0.8888888888888888,
              "#fdca26"
             ],
             [
              1,
              "#f0f921"
             ]
            ],
            "type": "contour"
           }
          ],
          "contourcarpet": [
           {
            "colorbar": {
             "outlinewidth": 0,
             "ticks": ""
            },
            "type": "contourcarpet"
           }
          ],
          "heatmap": [
           {
            "colorbar": {
             "outlinewidth": 0,
             "ticks": ""
            },
            "colorscale": [
             [
              0,
              "#0d0887"
             ],
             [
              0.1111111111111111,
              "#46039f"
             ],
             [
              0.2222222222222222,
              "#7201a8"
             ],
             [
              0.3333333333333333,
              "#9c179e"
             ],
             [
              0.4444444444444444,
              "#bd3786"
             ],
             [
              0.5555555555555556,
              "#d8576b"
             ],
             [
              0.6666666666666666,
              "#ed7953"
             ],
             [
              0.7777777777777778,
              "#fb9f3a"
             ],
             [
              0.8888888888888888,
              "#fdca26"
             ],
             [
              1,
              "#f0f921"
             ]
            ],
            "type": "heatmap"
           }
          ],
          "heatmapgl": [
           {
            "colorbar": {
             "outlinewidth": 0,
             "ticks": ""
            },
            "colorscale": [
             [
              0,
              "#0d0887"
             ],
             [
              0.1111111111111111,
              "#46039f"
             ],
             [
              0.2222222222222222,
              "#7201a8"
             ],
             [
              0.3333333333333333,
              "#9c179e"
             ],
             [
              0.4444444444444444,
              "#bd3786"
             ],
             [
              0.5555555555555556,
              "#d8576b"
             ],
             [
              0.6666666666666666,
              "#ed7953"
             ],
             [
              0.7777777777777778,
              "#fb9f3a"
             ],
             [
              0.8888888888888888,
              "#fdca26"
             ],
             [
              1,
              "#f0f921"
             ]
            ],
            "type": "heatmapgl"
           }
          ],
          "histogram": [
           {
            "marker": {
             "pattern": {
              "fillmode": "overlay",
              "size": 10,
              "solidity": 0.2
             }
            },
            "type": "histogram"
           }
          ],
          "histogram2d": [
           {
            "colorbar": {
             "outlinewidth": 0,
             "ticks": ""
            },
            "colorscale": [
             [
              0,
              "#0d0887"
             ],
             [
              0.1111111111111111,
              "#46039f"
             ],
             [
              0.2222222222222222,
              "#7201a8"
             ],
             [
              0.3333333333333333,
              "#9c179e"
             ],
             [
              0.4444444444444444,
              "#bd3786"
             ],
             [
              0.5555555555555556,
              "#d8576b"
             ],
             [
              0.6666666666666666,
              "#ed7953"
             ],
             [
              0.7777777777777778,
              "#fb9f3a"
             ],
             [
              0.8888888888888888,
              "#fdca26"
             ],
             [
              1,
              "#f0f921"
             ]
            ],
            "type": "histogram2d"
           }
          ],
          "histogram2dcontour": [
           {
            "colorbar": {
             "outlinewidth": 0,
             "ticks": ""
            },
            "colorscale": [
             [
              0,
              "#0d0887"
             ],
             [
              0.1111111111111111,
              "#46039f"
             ],
             [
              0.2222222222222222,
              "#7201a8"
             ],
             [
              0.3333333333333333,
              "#9c179e"
             ],
             [
              0.4444444444444444,
              "#bd3786"
             ],
             [
              0.5555555555555556,
              "#d8576b"
             ],
             [
              0.6666666666666666,
              "#ed7953"
             ],
             [
              0.7777777777777778,
              "#fb9f3a"
             ],
             [
              0.8888888888888888,
              "#fdca26"
             ],
             [
              1,
              "#f0f921"
             ]
            ],
            "type": "histogram2dcontour"
           }
          ],
          "mesh3d": [
           {
            "colorbar": {
             "outlinewidth": 0,
             "ticks": ""
            },
            "type": "mesh3d"
           }
          ],
          "parcoords": [
           {
            "line": {
             "colorbar": {
              "outlinewidth": 0,
              "ticks": ""
             }
            },
            "type": "parcoords"
           }
          ],
          "pie": [
           {
            "automargin": true,
            "type": "pie"
           }
          ],
          "scatter": [
           {
            "fillpattern": {
             "fillmode": "overlay",
             "size": 10,
             "solidity": 0.2
            },
            "type": "scatter"
           }
          ],
          "scatter3d": [
           {
            "line": {
             "colorbar": {
              "outlinewidth": 0,
              "ticks": ""
             }
            },
            "marker": {
             "colorbar": {
              "outlinewidth": 0,
              "ticks": ""
             }
            },
            "type": "scatter3d"
           }
          ],
          "scattercarpet": [
           {
            "marker": {
             "colorbar": {
              "outlinewidth": 0,
              "ticks": ""
             }
            },
            "type": "scattercarpet"
           }
          ],
          "scattergeo": [
           {
            "marker": {
             "colorbar": {
              "outlinewidth": 0,
              "ticks": ""
             }
            },
            "type": "scattergeo"
           }
          ],
          "scattergl": [
           {
            "marker": {
             "colorbar": {
              "outlinewidth": 0,
              "ticks": ""
             }
            },
            "type": "scattergl"
           }
          ],
          "scattermapbox": [
           {
            "marker": {
             "colorbar": {
              "outlinewidth": 0,
              "ticks": ""
             }
            },
            "type": "scattermapbox"
           }
          ],
          "scatterpolar": [
           {
            "marker": {
             "colorbar": {
              "outlinewidth": 0,
              "ticks": ""
             }
            },
            "type": "scatterpolar"
           }
          ],
          "scatterpolargl": [
           {
            "marker": {
             "colorbar": {
              "outlinewidth": 0,
              "ticks": ""
             }
            },
            "type": "scatterpolargl"
           }
          ],
          "scatterternary": [
           {
            "marker": {
             "colorbar": {
              "outlinewidth": 0,
              "ticks": ""
             }
            },
            "type": "scatterternary"
           }
          ],
          "surface": [
           {
            "colorbar": {
             "outlinewidth": 0,
             "ticks": ""
            },
            "colorscale": [
             [
              0,
              "#0d0887"
             ],
             [
              0.1111111111111111,
              "#46039f"
             ],
             [
              0.2222222222222222,
              "#7201a8"
             ],
             [
              0.3333333333333333,
              "#9c179e"
             ],
             [
              0.4444444444444444,
              "#bd3786"
             ],
             [
              0.5555555555555556,
              "#d8576b"
             ],
             [
              0.6666666666666666,
              "#ed7953"
             ],
             [
              0.7777777777777778,
              "#fb9f3a"
             ],
             [
              0.8888888888888888,
              "#fdca26"
             ],
             [
              1,
              "#f0f921"
             ]
            ],
            "type": "surface"
           }
          ],
          "table": [
           {
            "cells": {
             "fill": {
              "color": "#EBF0F8"
             },
             "line": {
              "color": "white"
             }
            },
            "header": {
             "fill": {
              "color": "#C8D4E3"
             },
             "line": {
              "color": "white"
             }
            },
            "type": "table"
           }
          ]
         },
         "layout": {
          "annotationdefaults": {
           "arrowcolor": "#2a3f5f",
           "arrowhead": 0,
           "arrowwidth": 1
          },
          "autotypenumbers": "strict",
          "coloraxis": {
           "colorbar": {
            "outlinewidth": 0,
            "ticks": ""
           }
          },
          "colorscale": {
           "diverging": [
            [
             0,
             "#8e0152"
            ],
            [
             0.1,
             "#c51b7d"
            ],
            [
             0.2,
             "#de77ae"
            ],
            [
             0.3,
             "#f1b6da"
            ],
            [
             0.4,
             "#fde0ef"
            ],
            [
             0.5,
             "#f7f7f7"
            ],
            [
             0.6,
             "#e6f5d0"
            ],
            [
             0.7,
             "#b8e186"
            ],
            [
             0.8,
             "#7fbc41"
            ],
            [
             0.9,
             "#4d9221"
            ],
            [
             1,
             "#276419"
            ]
           ],
           "sequential": [
            [
             0,
             "#0d0887"
            ],
            [
             0.1111111111111111,
             "#46039f"
            ],
            [
             0.2222222222222222,
             "#7201a8"
            ],
            [
             0.3333333333333333,
             "#9c179e"
            ],
            [
             0.4444444444444444,
             "#bd3786"
            ],
            [
             0.5555555555555556,
             "#d8576b"
            ],
            [
             0.6666666666666666,
             "#ed7953"
            ],
            [
             0.7777777777777778,
             "#fb9f3a"
            ],
            [
             0.8888888888888888,
             "#fdca26"
            ],
            [
             1,
             "#f0f921"
            ]
           ],
           "sequentialminus": [
            [
             0,
             "#0d0887"
            ],
            [
             0.1111111111111111,
             "#46039f"
            ],
            [
             0.2222222222222222,
             "#7201a8"
            ],
            [
             0.3333333333333333,
             "#9c179e"
            ],
            [
             0.4444444444444444,
             "#bd3786"
            ],
            [
             0.5555555555555556,
             "#d8576b"
            ],
            [
             0.6666666666666666,
             "#ed7953"
            ],
            [
             0.7777777777777778,
             "#fb9f3a"
            ],
            [
             0.8888888888888888,
             "#fdca26"
            ],
            [
             1,
             "#f0f921"
            ]
           ]
          },
          "colorway": [
           "#636efa",
           "#EF553B",
           "#00cc96",
           "#ab63fa",
           "#FFA15A",
           "#19d3f3",
           "#FF6692",
           "#B6E880",
           "#FF97FF",
           "#FECB52"
          ],
          "font": {
           "color": "#2a3f5f"
          },
          "geo": {
           "bgcolor": "white",
           "lakecolor": "white",
           "landcolor": "#E5ECF6",
           "showlakes": true,
           "showland": true,
           "subunitcolor": "white"
          },
          "hoverlabel": {
           "align": "left"
          },
          "hovermode": "closest",
          "mapbox": {
           "style": "light"
          },
          "paper_bgcolor": "white",
          "plot_bgcolor": "#E5ECF6",
          "polar": {
           "angularaxis": {
            "gridcolor": "white",
            "linecolor": "white",
            "ticks": ""
           },
           "bgcolor": "#E5ECF6",
           "radialaxis": {
            "gridcolor": "white",
            "linecolor": "white",
            "ticks": ""
           }
          },
          "scene": {
           "xaxis": {
            "backgroundcolor": "#E5ECF6",
            "gridcolor": "white",
            "gridwidth": 2,
            "linecolor": "white",
            "showbackground": true,
            "ticks": "",
            "zerolinecolor": "white"
           },
           "yaxis": {
            "backgroundcolor": "#E5ECF6",
            "gridcolor": "white",
            "gridwidth": 2,
            "linecolor": "white",
            "showbackground": true,
            "ticks": "",
            "zerolinecolor": "white"
           },
           "zaxis": {
            "backgroundcolor": "#E5ECF6",
            "gridcolor": "white",
            "gridwidth": 2,
            "linecolor": "white",
            "showbackground": true,
            "ticks": "",
            "zerolinecolor": "white"
           }
          },
          "shapedefaults": {
           "line": {
            "color": "#2a3f5f"
           }
          },
          "ternary": {
           "aaxis": {
            "gridcolor": "white",
            "linecolor": "white",
            "ticks": ""
           },
           "baxis": {
            "gridcolor": "white",
            "linecolor": "white",
            "ticks": ""
           },
           "bgcolor": "#E5ECF6",
           "caxis": {
            "gridcolor": "white",
            "linecolor": "white",
            "ticks": ""
           }
          },
          "title": {
           "x": 0.05
          },
          "xaxis": {
           "automargin": true,
           "gridcolor": "white",
           "linecolor": "white",
           "ticks": "",
           "title": {
            "standoff": 15
           },
           "zerolinecolor": "white",
           "zerolinewidth": 2
          },
          "yaxis": {
           "automargin": true,
           "gridcolor": "white",
           "linecolor": "white",
           "ticks": "",
           "title": {
            "standoff": 15
           },
           "zerolinecolor": "white",
           "zerolinewidth": 2
          }
         }
        },
        "title": {
         "text": "Hyperparameter Importances"
        },
        "xaxis": {
         "title": {
          "text": "Hyperparameter Importance"
         }
        },
        "yaxis": {
         "title": {
          "text": "Hyperparameter"
         }
        }
       }
      }
     },
     "metadata": {},
     "output_type": "display_data"
    }
   ],
   "source": [
    "from optuna.visualization import plot_param_importances\n",
    "\n",
    "plot_param_importances(study).show()"
   ]
  },
  {
   "cell_type": "code",
   "execution_count": 21,
   "metadata": {},
   "outputs": [
    {
     "data": {
      "application/vnd.plotly.v1+json": {
       "config": {
        "plotlyServerURL": "https://plot.ly"
       },
       "data": [
        {
         "marker": {
          "color": [
           0,
           1,
           2,
           3,
           4,
           5,
           6,
           7,
           8,
           9,
           10,
           11,
           12,
           13,
           14,
           15,
           16,
           17,
           18,
           19,
           20,
           21,
           22,
           23,
           24,
           25,
           26,
           27,
           28,
           29,
           30,
           31,
           32,
           33,
           34,
           35,
           36,
           37,
           38,
           39,
           40,
           41,
           42,
           43,
           44,
           45,
           46,
           47,
           48,
           49,
           50,
           51,
           52,
           53,
           54,
           55,
           56,
           57,
           58,
           59,
           60,
           61,
           62,
           63,
           64,
           65,
           66,
           67,
           68,
           69,
           70,
           71,
           72,
           73,
           74,
           75,
           76,
           77,
           78,
           79,
           80,
           81,
           82,
           83,
           84,
           85,
           86,
           87,
           88,
           89,
           90,
           91,
           92,
           93,
           94,
           95,
           96,
           97,
           98,
           99
          ],
          "colorbar": {
           "title": {
            "text": "Trial"
           },
           "x": 1,
           "xpad": 40
          },
          "colorscale": [
           [
            0,
            "rgb(247,251,255)"
           ],
           [
            0.125,
            "rgb(222,235,247)"
           ],
           [
            0.25,
            "rgb(198,219,239)"
           ],
           [
            0.375,
            "rgb(158,202,225)"
           ],
           [
            0.5,
            "rgb(107,174,214)"
           ],
           [
            0.625,
            "rgb(66,146,198)"
           ],
           [
            0.75,
            "rgb(33,113,181)"
           ],
           [
            0.875,
            "rgb(8,81,156)"
           ],
           [
            1,
            "rgb(8,48,107)"
           ]
          ],
          "line": {
           "color": "Grey",
           "width": 0.5
          },
          "showscale": true
         },
         "mode": "markers",
         "name": "Feasible Trial",
         "showlegend": false,
         "type": "scatter",
         "x": [
          15,
          13,
          13,
          30,
          6,
          5,
          21,
          27,
          30,
          12,
          23,
          1,
          7,
          21,
          26,
          27,
          26,
          32,
          18,
          26,
          23,
          8,
          28,
          18,
          11,
          23,
          9,
          17,
          20,
          3,
          15,
          7,
          8,
          4,
          14,
          32,
          9,
          11,
          2,
          29,
          5,
          7,
          5,
          6,
          10,
          25,
          1,
          13,
          7,
          25,
          30,
          28,
          26,
          24,
          28,
          22,
          30,
          27,
          20,
          31,
          4,
          11,
          9,
          9,
          8,
          6,
          16,
          13,
          10,
          4,
          6,
          8,
          2,
          6,
          27,
          7,
          12,
          3,
          6,
          5,
          10,
          10,
          8,
          8,
          9,
          12,
          25,
          29,
          29,
          10,
          7,
          7,
          8,
          9,
          5,
          7,
          29,
          31,
          11,
          14
         ],
         "xaxis": "x",
         "y": [
          0.7720511795281888,
          0.7622417699586832,
          0.7704251632680262,
          0.7491936558709849,
          0.776942556310809,
          0.7753698520591763,
          0.7524456883913101,
          0.7785419165667067,
          0.7638811142209783,
          0.7573770491803279,
          0.7622550979608156,
          0.6937891510062643,
          0.7524856723977076,
          0.7720245235239236,
          0.7785552445688391,
          0.7769292283086766,
          0.7720245235239238,
          0.758989737438358,
          0.7655204584832733,
          0.7752898840463814,
          0.767119818739171,
          0.7769825403172066,
          0.7752765560442489,
          0.7720245235239237,
          0.7703851792616287,
          0.768812475009996,
          0.7703985072637611,
          0.7687591630014661,
          0.7622550979608157,
          0.7524856723977076,
          0.7753032120485139,
          0.7818339330934292,
          0.7720511795281888,
          0.7687591630014661,
          0.7720511795281888,
          0.7736238837798214,
          0.7687458349993335,
          0.7622950819672132,
          0.7377848860455818,
          0.7655204584832733,
          0.7557243769159003,
          0.7687724910035985,
          0.7752632280421164,
          0.7622684259629482,
          0.7769025723044115,
          0.7476209516193523,
          0.6693989071038252,
          0.7719978675196588,
          0.7687858190057311,
          0.7703851792616287,
          0.7655204584832733,
          0.7622284419565506,
          0.7638677862188457,
          0.7752898840463814,
          0.7638677862188458,
          0.7687858190057311,
          0.7753165400506463,
          0.7687591630014661,
          0.7752632280421166,
          0.7573637211781954,
          0.7475809676129548,
          0.7736638677862189,
          0.7817939490870318,
          0.7508463281354125,
          0.7687991470078636,
          0.7769292283086766,
          0.7655071304811408,
          0.7687724910035986,
          0.759016393442623,
          0.7671598027455685,
          0.7687858190057311,
          0.7752765560442489,
          0.7410902305744369,
          0.7703985072637611,
          0.7737038517926164,
          0.7736905237904839,
          0.7687724910035986,
          0.7541250166600026,
          0.7524723443955752,
          0.7736505397840864,
          0.759016393442623,
          0.7801546048247368,
          0.7785285885645742,
          0.7768892443022791,
          0.7687724910035986,
          0.7736771957883514,
          0.7703851792616287,
          0.7769425563108091,
          0.7752898840463814,
          0.7687591630014661,
          0.7785685725709717,
          0.7687858190057311,
          0.7704384912701586,
          0.7704118352658936,
          0.7573370651739304,
          0.7768892443022791,
          0.776915900306544,
          0.775303212048514,
          0.7752765560442489,
          0.7720111955217913
         ],
         "yaxis": "y"
        },
        {
         "marker": {
          "color": [
           0,
           1,
           2,
           3,
           4,
           5,
           6,
           7,
           8,
           9,
           10,
           11,
           12,
           13,
           14,
           15,
           16,
           17,
           18,
           19,
           20,
           21,
           22,
           23,
           24,
           25,
           26,
           27,
           28,
           29,
           30,
           31,
           32,
           33,
           34,
           35,
           36,
           37,
           38,
           39,
           40,
           41,
           42,
           43,
           44,
           45,
           46,
           47,
           48,
           49,
           50,
           51,
           52,
           53,
           54,
           55,
           56,
           57,
           58,
           59,
           60,
           61,
           62,
           63,
           64,
           65,
           66,
           67,
           68,
           69,
           70,
           71,
           72,
           73,
           74,
           75,
           76,
           77,
           78,
           79,
           80,
           81,
           82,
           83,
           84,
           85,
           86,
           87,
           88,
           89,
           90,
           91,
           92,
           93,
           94,
           95,
           96,
           97,
           98,
           99
          ],
          "colorbar": {
           "title": {
            "text": "Trial"
           },
           "x": 1,
           "xpad": 40
          },
          "colorscale": [
           [
            0,
            "rgb(247,251,255)"
           ],
           [
            0.125,
            "rgb(222,235,247)"
           ],
           [
            0.25,
            "rgb(198,219,239)"
           ],
           [
            0.375,
            "rgb(158,202,225)"
           ],
           [
            0.5,
            "rgb(107,174,214)"
           ],
           [
            0.625,
            "rgb(66,146,198)"
           ],
           [
            0.75,
            "rgb(33,113,181)"
           ],
           [
            0.875,
            "rgb(8,81,156)"
           ],
           [
            1,
            "rgb(8,48,107)"
           ]
          ],
          "line": {
           "color": "Grey",
           "width": 0.5
          },
          "showscale": false
         },
         "mode": "markers",
         "name": "Feasible Trial",
         "showlegend": false,
         "type": "scatter",
         "x": [
          3,
          1,
          12,
          18,
          1,
          8,
          12,
          12,
          15,
          14,
          7,
          5,
          20,
          9,
          5,
          5,
          10,
          16,
          6,
          11,
          3,
          3,
          3,
          4,
          8,
          13,
          1,
          6,
          10,
          2,
          4,
          2,
          2,
          3,
          5,
          1,
          7,
          2,
          17,
          12,
          14,
          4,
          1,
          2,
          3,
          1,
          6,
          4,
          8,
          11,
          5,
          7,
          3,
          5,
          2,
          13,
          9,
          4,
          6,
          2,
          9,
          3,
          3,
          20,
          1,
          5,
          3,
          4,
          15,
          2,
          12,
          5,
          5,
          7,
          13,
          1,
          4,
          6,
          19,
          4,
          2,
          3,
          3,
          3,
          1,
          3,
          2,
          3,
          3,
          11,
          1,
          1,
          2,
          1,
          2,
          3,
          3,
          1,
          2,
          4
         ],
         "xaxis": "x2",
         "y": [
          0.7720511795281888,
          0.7622417699586832,
          0.7704251632680262,
          0.7491936558709849,
          0.776942556310809,
          0.7753698520591763,
          0.7524456883913101,
          0.7785419165667067,
          0.7638811142209783,
          0.7573770491803279,
          0.7622550979608156,
          0.6937891510062643,
          0.7524856723977076,
          0.7720245235239236,
          0.7785552445688391,
          0.7769292283086766,
          0.7720245235239238,
          0.758989737438358,
          0.7655204584832733,
          0.7752898840463814,
          0.767119818739171,
          0.7769825403172066,
          0.7752765560442489,
          0.7720245235239237,
          0.7703851792616287,
          0.768812475009996,
          0.7703985072637611,
          0.7687591630014661,
          0.7622550979608157,
          0.7524856723977076,
          0.7753032120485139,
          0.7818339330934292,
          0.7720511795281888,
          0.7687591630014661,
          0.7720511795281888,
          0.7736238837798214,
          0.7687458349993335,
          0.7622950819672132,
          0.7377848860455818,
          0.7655204584832733,
          0.7557243769159003,
          0.7687724910035985,
          0.7752632280421164,
          0.7622684259629482,
          0.7769025723044115,
          0.7476209516193523,
          0.6693989071038252,
          0.7719978675196588,
          0.7687858190057311,
          0.7703851792616287,
          0.7655204584832733,
          0.7622284419565506,
          0.7638677862188457,
          0.7752898840463814,
          0.7638677862188458,
          0.7687858190057311,
          0.7753165400506463,
          0.7687591630014661,
          0.7752632280421166,
          0.7573637211781954,
          0.7475809676129548,
          0.7736638677862189,
          0.7817939490870318,
          0.7508463281354125,
          0.7687991470078636,
          0.7769292283086766,
          0.7655071304811408,
          0.7687724910035986,
          0.759016393442623,
          0.7671598027455685,
          0.7687858190057311,
          0.7752765560442489,
          0.7410902305744369,
          0.7703985072637611,
          0.7737038517926164,
          0.7736905237904839,
          0.7687724910035986,
          0.7541250166600026,
          0.7524723443955752,
          0.7736505397840864,
          0.759016393442623,
          0.7801546048247368,
          0.7785285885645742,
          0.7768892443022791,
          0.7687724910035986,
          0.7736771957883514,
          0.7703851792616287,
          0.7769425563108091,
          0.7752898840463814,
          0.7687591630014661,
          0.7785685725709717,
          0.7687858190057311,
          0.7704384912701586,
          0.7704118352658936,
          0.7573370651739304,
          0.7768892443022791,
          0.776915900306544,
          0.775303212048514,
          0.7752765560442489,
          0.7720111955217913
         ],
         "yaxis": "y2"
        },
        {
         "marker": {
          "color": [
           0,
           1,
           2,
           3,
           4,
           5,
           6,
           7,
           8,
           9,
           10,
           11,
           12,
           13,
           14,
           15,
           16,
           17,
           18,
           19,
           20,
           21,
           22,
           23,
           24,
           25,
           26,
           27,
           28,
           29,
           30,
           31,
           32,
           33,
           34,
           35,
           36,
           37,
           38,
           39,
           40,
           41,
           42,
           43,
           44,
           45,
           46,
           47,
           48,
           49,
           50,
           51,
           52,
           53,
           54,
           55,
           56,
           57,
           58,
           59,
           60,
           61,
           62,
           63,
           64,
           65,
           66,
           67,
           68,
           69,
           70,
           71,
           72,
           73,
           74,
           75,
           76,
           77,
           78,
           79,
           80,
           81,
           82,
           83,
           84,
           85,
           86,
           87,
           88,
           89,
           90,
           91,
           92,
           93,
           94,
           95,
           96,
           97,
           98,
           99
          ],
          "colorbar": {
           "title": {
            "text": "Trial"
           },
           "x": 1,
           "xpad": 40
          },
          "colorscale": [
           [
            0,
            "rgb(247,251,255)"
           ],
           [
            0.125,
            "rgb(222,235,247)"
           ],
           [
            0.25,
            "rgb(198,219,239)"
           ],
           [
            0.375,
            "rgb(158,202,225)"
           ],
           [
            0.5,
            "rgb(107,174,214)"
           ],
           [
            0.625,
            "rgb(66,146,198)"
           ],
           [
            0.75,
            "rgb(33,113,181)"
           ],
           [
            0.875,
            "rgb(8,81,156)"
           ],
           [
            1,
            "rgb(8,48,107)"
           ]
          ],
          "line": {
           "color": "Grey",
           "width": 0.5
          },
          "showscale": false
         },
         "mode": "markers",
         "name": "Feasible Trial",
         "showlegend": false,
         "type": "scatter",
         "x": [
          12,
          19,
          7,
          16,
          8,
          17,
          9,
          15,
          5,
          4,
          13,
          14,
          9,
          10,
          2,
          3,
          20,
          2,
          15,
          6,
          18,
          7,
          11,
          2,
          5,
          7,
          12,
          4,
          15,
          12,
          10,
          8,
          8,
          6,
          8,
          11,
          7,
          17,
          4,
          6,
          13,
          8,
          9,
          5,
          10,
          7,
          3,
          9,
          11,
          14,
          20,
          3,
          3,
          2,
          5,
          4,
          6,
          2,
          18,
          8,
          5,
          10,
          9,
          9,
          12,
          7,
          8,
          3,
          9,
          6,
          16,
          7,
          7,
          7,
          10,
          8,
          13,
          9,
          4,
          2,
          6,
          10,
          11,
          11,
          11,
          12,
          10,
          14,
          15,
          16,
          14,
          13,
          14,
          14,
          15,
          11,
          12,
          16,
          14,
          9
         ],
         "xaxis": "x3",
         "y": [
          0.7720511795281888,
          0.7622417699586832,
          0.7704251632680262,
          0.7491936558709849,
          0.776942556310809,
          0.7753698520591763,
          0.7524456883913101,
          0.7785419165667067,
          0.7638811142209783,
          0.7573770491803279,
          0.7622550979608156,
          0.6937891510062643,
          0.7524856723977076,
          0.7720245235239236,
          0.7785552445688391,
          0.7769292283086766,
          0.7720245235239238,
          0.758989737438358,
          0.7655204584832733,
          0.7752898840463814,
          0.767119818739171,
          0.7769825403172066,
          0.7752765560442489,
          0.7720245235239237,
          0.7703851792616287,
          0.768812475009996,
          0.7703985072637611,
          0.7687591630014661,
          0.7622550979608157,
          0.7524856723977076,
          0.7753032120485139,
          0.7818339330934292,
          0.7720511795281888,
          0.7687591630014661,
          0.7720511795281888,
          0.7736238837798214,
          0.7687458349993335,
          0.7622950819672132,
          0.7377848860455818,
          0.7655204584832733,
          0.7557243769159003,
          0.7687724910035985,
          0.7752632280421164,
          0.7622684259629482,
          0.7769025723044115,
          0.7476209516193523,
          0.6693989071038252,
          0.7719978675196588,
          0.7687858190057311,
          0.7703851792616287,
          0.7655204584832733,
          0.7622284419565506,
          0.7638677862188457,
          0.7752898840463814,
          0.7638677862188458,
          0.7687858190057311,
          0.7753165400506463,
          0.7687591630014661,
          0.7752632280421166,
          0.7573637211781954,
          0.7475809676129548,
          0.7736638677862189,
          0.7817939490870318,
          0.7508463281354125,
          0.7687991470078636,
          0.7769292283086766,
          0.7655071304811408,
          0.7687724910035986,
          0.759016393442623,
          0.7671598027455685,
          0.7687858190057311,
          0.7752765560442489,
          0.7410902305744369,
          0.7703985072637611,
          0.7737038517926164,
          0.7736905237904839,
          0.7687724910035986,
          0.7541250166600026,
          0.7524723443955752,
          0.7736505397840864,
          0.759016393442623,
          0.7801546048247368,
          0.7785285885645742,
          0.7768892443022791,
          0.7687724910035986,
          0.7736771957883514,
          0.7703851792616287,
          0.7769425563108091,
          0.7752898840463814,
          0.7687591630014661,
          0.7785685725709717,
          0.7687858190057311,
          0.7704384912701586,
          0.7704118352658936,
          0.7573370651739304,
          0.7768892443022791,
          0.776915900306544,
          0.775303212048514,
          0.7752765560442489,
          0.7720111955217913
         ],
         "yaxis": "y3"
        },
        {
         "marker": {
          "color": [
           0,
           1,
           2,
           3,
           4,
           5,
           6,
           7,
           8,
           9,
           10,
           11,
           12,
           13,
           14,
           15,
           16,
           17,
           18,
           19,
           20,
           21,
           22,
           23,
           24,
           25,
           26,
           27,
           28,
           29,
           30,
           31,
           32,
           33,
           34,
           35,
           36,
           37,
           38,
           39,
           40,
           41,
           42,
           43,
           44,
           45,
           46,
           47,
           48,
           49,
           50,
           51,
           52,
           53,
           54,
           55,
           56,
           57,
           58,
           59,
           60,
           61,
           62,
           63,
           64,
           65,
           66,
           67,
           68,
           69,
           70,
           71,
           72,
           73,
           74,
           75,
           76,
           77,
           78,
           79,
           80,
           81,
           82,
           83,
           84,
           85,
           86,
           87,
           88,
           89,
           90,
           91,
           92,
           93,
           94,
           95,
           96,
           97,
           98,
           99
          ],
          "colorbar": {
           "title": {
            "text": "Trial"
           },
           "x": 1,
           "xpad": 40
          },
          "colorscale": [
           [
            0,
            "rgb(247,251,255)"
           ],
           [
            0.125,
            "rgb(222,235,247)"
           ],
           [
            0.25,
            "rgb(198,219,239)"
           ],
           [
            0.375,
            "rgb(158,202,225)"
           ],
           [
            0.5,
            "rgb(107,174,214)"
           ],
           [
            0.625,
            "rgb(66,146,198)"
           ],
           [
            0.75,
            "rgb(33,113,181)"
           ],
           [
            0.875,
            "rgb(8,81,156)"
           ],
           [
            1,
            "rgb(8,48,107)"
           ]
          ],
          "line": {
           "color": "Grey",
           "width": 0.5
          },
          "showscale": false
         },
         "mode": "markers",
         "name": "Feasible Trial",
         "showlegend": false,
         "type": "scatter",
         "x": [
          87,
          64,
          45,
          100,
          65,
          33,
          5,
          33,
          90,
          38,
          11,
          63,
          25,
          61,
          76,
          77,
          19,
          49,
          34,
          75,
          56,
          72,
          77,
          88,
          72,
          55,
          40,
          27,
          97,
          82,
          69,
          69,
          80,
          68,
          57,
          49,
          84,
          72,
          45,
          93,
          61,
          66,
          72,
          64,
          84,
          8,
          43,
          15,
          58,
          53,
          75,
          81,
          78,
          69,
          62,
          92,
          27,
          87,
          75,
          22,
          2,
          84,
          78,
          78,
          33,
          72,
          67,
          59,
          65,
          69,
          75,
          72,
          72,
          80,
          77,
          89,
          51,
          70,
          84,
          64,
          74,
          80,
          79,
          87,
          82,
          78,
          98,
          82,
          82,
          92,
          60,
          60,
          67,
          55,
          86,
          62,
          80,
          76,
          70,
          74
         ],
         "xaxis": "x4",
         "y": [
          0.7720511795281888,
          0.7622417699586832,
          0.7704251632680262,
          0.7491936558709849,
          0.776942556310809,
          0.7753698520591763,
          0.7524456883913101,
          0.7785419165667067,
          0.7638811142209783,
          0.7573770491803279,
          0.7622550979608156,
          0.6937891510062643,
          0.7524856723977076,
          0.7720245235239236,
          0.7785552445688391,
          0.7769292283086766,
          0.7720245235239238,
          0.758989737438358,
          0.7655204584832733,
          0.7752898840463814,
          0.767119818739171,
          0.7769825403172066,
          0.7752765560442489,
          0.7720245235239237,
          0.7703851792616287,
          0.768812475009996,
          0.7703985072637611,
          0.7687591630014661,
          0.7622550979608157,
          0.7524856723977076,
          0.7753032120485139,
          0.7818339330934292,
          0.7720511795281888,
          0.7687591630014661,
          0.7720511795281888,
          0.7736238837798214,
          0.7687458349993335,
          0.7622950819672132,
          0.7377848860455818,
          0.7655204584832733,
          0.7557243769159003,
          0.7687724910035985,
          0.7752632280421164,
          0.7622684259629482,
          0.7769025723044115,
          0.7476209516193523,
          0.6693989071038252,
          0.7719978675196588,
          0.7687858190057311,
          0.7703851792616287,
          0.7655204584832733,
          0.7622284419565506,
          0.7638677862188457,
          0.7752898840463814,
          0.7638677862188458,
          0.7687858190057311,
          0.7753165400506463,
          0.7687591630014661,
          0.7752632280421166,
          0.7573637211781954,
          0.7475809676129548,
          0.7736638677862189,
          0.7817939490870318,
          0.7508463281354125,
          0.7687991470078636,
          0.7769292283086766,
          0.7655071304811408,
          0.7687724910035986,
          0.759016393442623,
          0.7671598027455685,
          0.7687858190057311,
          0.7752765560442489,
          0.7410902305744369,
          0.7703985072637611,
          0.7737038517926164,
          0.7736905237904839,
          0.7687724910035986,
          0.7541250166600026,
          0.7524723443955752,
          0.7736505397840864,
          0.759016393442623,
          0.7801546048247368,
          0.7785285885645742,
          0.7768892443022791,
          0.7687724910035986,
          0.7736771957883514,
          0.7703851792616287,
          0.7769425563108091,
          0.7752898840463814,
          0.7687591630014661,
          0.7785685725709717,
          0.7687858190057311,
          0.7704384912701586,
          0.7704118352658936,
          0.7573370651739304,
          0.7768892443022791,
          0.776915900306544,
          0.775303212048514,
          0.7752765560442489,
          0.7720111955217913
         ],
         "yaxis": "y4"
        }
       ],
       "layout": {
        "template": {
         "data": {
          "bar": [
           {
            "error_x": {
             "color": "#2a3f5f"
            },
            "error_y": {
             "color": "#2a3f5f"
            },
            "marker": {
             "line": {
              "color": "#E5ECF6",
              "width": 0.5
             },
             "pattern": {
              "fillmode": "overlay",
              "size": 10,
              "solidity": 0.2
             }
            },
            "type": "bar"
           }
          ],
          "barpolar": [
           {
            "marker": {
             "line": {
              "color": "#E5ECF6",
              "width": 0.5
             },
             "pattern": {
              "fillmode": "overlay",
              "size": 10,
              "solidity": 0.2
             }
            },
            "type": "barpolar"
           }
          ],
          "carpet": [
           {
            "aaxis": {
             "endlinecolor": "#2a3f5f",
             "gridcolor": "white",
             "linecolor": "white",
             "minorgridcolor": "white",
             "startlinecolor": "#2a3f5f"
            },
            "baxis": {
             "endlinecolor": "#2a3f5f",
             "gridcolor": "white",
             "linecolor": "white",
             "minorgridcolor": "white",
             "startlinecolor": "#2a3f5f"
            },
            "type": "carpet"
           }
          ],
          "choropleth": [
           {
            "colorbar": {
             "outlinewidth": 0,
             "ticks": ""
            },
            "type": "choropleth"
           }
          ],
          "contour": [
           {
            "colorbar": {
             "outlinewidth": 0,
             "ticks": ""
            },
            "colorscale": [
             [
              0,
              "#0d0887"
             ],
             [
              0.1111111111111111,
              "#46039f"
             ],
             [
              0.2222222222222222,
              "#7201a8"
             ],
             [
              0.3333333333333333,
              "#9c179e"
             ],
             [
              0.4444444444444444,
              "#bd3786"
             ],
             [
              0.5555555555555556,
              "#d8576b"
             ],
             [
              0.6666666666666666,
              "#ed7953"
             ],
             [
              0.7777777777777778,
              "#fb9f3a"
             ],
             [
              0.8888888888888888,
              "#fdca26"
             ],
             [
              1,
              "#f0f921"
             ]
            ],
            "type": "contour"
           }
          ],
          "contourcarpet": [
           {
            "colorbar": {
             "outlinewidth": 0,
             "ticks": ""
            },
            "type": "contourcarpet"
           }
          ],
          "heatmap": [
           {
            "colorbar": {
             "outlinewidth": 0,
             "ticks": ""
            },
            "colorscale": [
             [
              0,
              "#0d0887"
             ],
             [
              0.1111111111111111,
              "#46039f"
             ],
             [
              0.2222222222222222,
              "#7201a8"
             ],
             [
              0.3333333333333333,
              "#9c179e"
             ],
             [
              0.4444444444444444,
              "#bd3786"
             ],
             [
              0.5555555555555556,
              "#d8576b"
             ],
             [
              0.6666666666666666,
              "#ed7953"
             ],
             [
              0.7777777777777778,
              "#fb9f3a"
             ],
             [
              0.8888888888888888,
              "#fdca26"
             ],
             [
              1,
              "#f0f921"
             ]
            ],
            "type": "heatmap"
           }
          ],
          "heatmapgl": [
           {
            "colorbar": {
             "outlinewidth": 0,
             "ticks": ""
            },
            "colorscale": [
             [
              0,
              "#0d0887"
             ],
             [
              0.1111111111111111,
              "#46039f"
             ],
             [
              0.2222222222222222,
              "#7201a8"
             ],
             [
              0.3333333333333333,
              "#9c179e"
             ],
             [
              0.4444444444444444,
              "#bd3786"
             ],
             [
              0.5555555555555556,
              "#d8576b"
             ],
             [
              0.6666666666666666,
              "#ed7953"
             ],
             [
              0.7777777777777778,
              "#fb9f3a"
             ],
             [
              0.8888888888888888,
              "#fdca26"
             ],
             [
              1,
              "#f0f921"
             ]
            ],
            "type": "heatmapgl"
           }
          ],
          "histogram": [
           {
            "marker": {
             "pattern": {
              "fillmode": "overlay",
              "size": 10,
              "solidity": 0.2
             }
            },
            "type": "histogram"
           }
          ],
          "histogram2d": [
           {
            "colorbar": {
             "outlinewidth": 0,
             "ticks": ""
            },
            "colorscale": [
             [
              0,
              "#0d0887"
             ],
             [
              0.1111111111111111,
              "#46039f"
             ],
             [
              0.2222222222222222,
              "#7201a8"
             ],
             [
              0.3333333333333333,
              "#9c179e"
             ],
             [
              0.4444444444444444,
              "#bd3786"
             ],
             [
              0.5555555555555556,
              "#d8576b"
             ],
             [
              0.6666666666666666,
              "#ed7953"
             ],
             [
              0.7777777777777778,
              "#fb9f3a"
             ],
             [
              0.8888888888888888,
              "#fdca26"
             ],
             [
              1,
              "#f0f921"
             ]
            ],
            "type": "histogram2d"
           }
          ],
          "histogram2dcontour": [
           {
            "colorbar": {
             "outlinewidth": 0,
             "ticks": ""
            },
            "colorscale": [
             [
              0,
              "#0d0887"
             ],
             [
              0.1111111111111111,
              "#46039f"
             ],
             [
              0.2222222222222222,
              "#7201a8"
             ],
             [
              0.3333333333333333,
              "#9c179e"
             ],
             [
              0.4444444444444444,
              "#bd3786"
             ],
             [
              0.5555555555555556,
              "#d8576b"
             ],
             [
              0.6666666666666666,
              "#ed7953"
             ],
             [
              0.7777777777777778,
              "#fb9f3a"
             ],
             [
              0.8888888888888888,
              "#fdca26"
             ],
             [
              1,
              "#f0f921"
             ]
            ],
            "type": "histogram2dcontour"
           }
          ],
          "mesh3d": [
           {
            "colorbar": {
             "outlinewidth": 0,
             "ticks": ""
            },
            "type": "mesh3d"
           }
          ],
          "parcoords": [
           {
            "line": {
             "colorbar": {
              "outlinewidth": 0,
              "ticks": ""
             }
            },
            "type": "parcoords"
           }
          ],
          "pie": [
           {
            "automargin": true,
            "type": "pie"
           }
          ],
          "scatter": [
           {
            "fillpattern": {
             "fillmode": "overlay",
             "size": 10,
             "solidity": 0.2
            },
            "type": "scatter"
           }
          ],
          "scatter3d": [
           {
            "line": {
             "colorbar": {
              "outlinewidth": 0,
              "ticks": ""
             }
            },
            "marker": {
             "colorbar": {
              "outlinewidth": 0,
              "ticks": ""
             }
            },
            "type": "scatter3d"
           }
          ],
          "scattercarpet": [
           {
            "marker": {
             "colorbar": {
              "outlinewidth": 0,
              "ticks": ""
             }
            },
            "type": "scattercarpet"
           }
          ],
          "scattergeo": [
           {
            "marker": {
             "colorbar": {
              "outlinewidth": 0,
              "ticks": ""
             }
            },
            "type": "scattergeo"
           }
          ],
          "scattergl": [
           {
            "marker": {
             "colorbar": {
              "outlinewidth": 0,
              "ticks": ""
             }
            },
            "type": "scattergl"
           }
          ],
          "scattermapbox": [
           {
            "marker": {
             "colorbar": {
              "outlinewidth": 0,
              "ticks": ""
             }
            },
            "type": "scattermapbox"
           }
          ],
          "scatterpolar": [
           {
            "marker": {
             "colorbar": {
              "outlinewidth": 0,
              "ticks": ""
             }
            },
            "type": "scatterpolar"
           }
          ],
          "scatterpolargl": [
           {
            "marker": {
             "colorbar": {
              "outlinewidth": 0,
              "ticks": ""
             }
            },
            "type": "scatterpolargl"
           }
          ],
          "scatterternary": [
           {
            "marker": {
             "colorbar": {
              "outlinewidth": 0,
              "ticks": ""
             }
            },
            "type": "scatterternary"
           }
          ],
          "surface": [
           {
            "colorbar": {
             "outlinewidth": 0,
             "ticks": ""
            },
            "colorscale": [
             [
              0,
              "#0d0887"
             ],
             [
              0.1111111111111111,
              "#46039f"
             ],
             [
              0.2222222222222222,
              "#7201a8"
             ],
             [
              0.3333333333333333,
              "#9c179e"
             ],
             [
              0.4444444444444444,
              "#bd3786"
             ],
             [
              0.5555555555555556,
              "#d8576b"
             ],
             [
              0.6666666666666666,
              "#ed7953"
             ],
             [
              0.7777777777777778,
              "#fb9f3a"
             ],
             [
              0.8888888888888888,
              "#fdca26"
             ],
             [
              1,
              "#f0f921"
             ]
            ],
            "type": "surface"
           }
          ],
          "table": [
           {
            "cells": {
             "fill": {
              "color": "#EBF0F8"
             },
             "line": {
              "color": "white"
             }
            },
            "header": {
             "fill": {
              "color": "#C8D4E3"
             },
             "line": {
              "color": "white"
             }
            },
            "type": "table"
           }
          ]
         },
         "layout": {
          "annotationdefaults": {
           "arrowcolor": "#2a3f5f",
           "arrowhead": 0,
           "arrowwidth": 1
          },
          "autotypenumbers": "strict",
          "coloraxis": {
           "colorbar": {
            "outlinewidth": 0,
            "ticks": ""
           }
          },
          "colorscale": {
           "diverging": [
            [
             0,
             "#8e0152"
            ],
            [
             0.1,
             "#c51b7d"
            ],
            [
             0.2,
             "#de77ae"
            ],
            [
             0.3,
             "#f1b6da"
            ],
            [
             0.4,
             "#fde0ef"
            ],
            [
             0.5,
             "#f7f7f7"
            ],
            [
             0.6,
             "#e6f5d0"
            ],
            [
             0.7,
             "#b8e186"
            ],
            [
             0.8,
             "#7fbc41"
            ],
            [
             0.9,
             "#4d9221"
            ],
            [
             1,
             "#276419"
            ]
           ],
           "sequential": [
            [
             0,
             "#0d0887"
            ],
            [
             0.1111111111111111,
             "#46039f"
            ],
            [
             0.2222222222222222,
             "#7201a8"
            ],
            [
             0.3333333333333333,
             "#9c179e"
            ],
            [
             0.4444444444444444,
             "#bd3786"
            ],
            [
             0.5555555555555556,
             "#d8576b"
            ],
            [
             0.6666666666666666,
             "#ed7953"
            ],
            [
             0.7777777777777778,
             "#fb9f3a"
            ],
            [
             0.8888888888888888,
             "#fdca26"
            ],
            [
             1,
             "#f0f921"
            ]
           ],
           "sequentialminus": [
            [
             0,
             "#0d0887"
            ],
            [
             0.1111111111111111,
             "#46039f"
            ],
            [
             0.2222222222222222,
             "#7201a8"
            ],
            [
             0.3333333333333333,
             "#9c179e"
            ],
            [
             0.4444444444444444,
             "#bd3786"
            ],
            [
             0.5555555555555556,
             "#d8576b"
            ],
            [
             0.6666666666666666,
             "#ed7953"
            ],
            [
             0.7777777777777778,
             "#fb9f3a"
            ],
            [
             0.8888888888888888,
             "#fdca26"
            ],
            [
             1,
             "#f0f921"
            ]
           ]
          },
          "colorway": [
           "#636efa",
           "#EF553B",
           "#00cc96",
           "#ab63fa",
           "#FFA15A",
           "#19d3f3",
           "#FF6692",
           "#B6E880",
           "#FF97FF",
           "#FECB52"
          ],
          "font": {
           "color": "#2a3f5f"
          },
          "geo": {
           "bgcolor": "white",
           "lakecolor": "white",
           "landcolor": "#E5ECF6",
           "showlakes": true,
           "showland": true,
           "subunitcolor": "white"
          },
          "hoverlabel": {
           "align": "left"
          },
          "hovermode": "closest",
          "mapbox": {
           "style": "light"
          },
          "paper_bgcolor": "white",
          "plot_bgcolor": "#E5ECF6",
          "polar": {
           "angularaxis": {
            "gridcolor": "white",
            "linecolor": "white",
            "ticks": ""
           },
           "bgcolor": "#E5ECF6",
           "radialaxis": {
            "gridcolor": "white",
            "linecolor": "white",
            "ticks": ""
           }
          },
          "scene": {
           "xaxis": {
            "backgroundcolor": "#E5ECF6",
            "gridcolor": "white",
            "gridwidth": 2,
            "linecolor": "white",
            "showbackground": true,
            "ticks": "",
            "zerolinecolor": "white"
           },
           "yaxis": {
            "backgroundcolor": "#E5ECF6",
            "gridcolor": "white",
            "gridwidth": 2,
            "linecolor": "white",
            "showbackground": true,
            "ticks": "",
            "zerolinecolor": "white"
           },
           "zaxis": {
            "backgroundcolor": "#E5ECF6",
            "gridcolor": "white",
            "gridwidth": 2,
            "linecolor": "white",
            "showbackground": true,
            "ticks": "",
            "zerolinecolor": "white"
           }
          },
          "shapedefaults": {
           "line": {
            "color": "#2a3f5f"
           }
          },
          "ternary": {
           "aaxis": {
            "gridcolor": "white",
            "linecolor": "white",
            "ticks": ""
           },
           "baxis": {
            "gridcolor": "white",
            "linecolor": "white",
            "ticks": ""
           },
           "bgcolor": "#E5ECF6",
           "caxis": {
            "gridcolor": "white",
            "linecolor": "white",
            "ticks": ""
           }
          },
          "title": {
           "x": 0.05
          },
          "xaxis": {
           "automargin": true,
           "gridcolor": "white",
           "linecolor": "white",
           "ticks": "",
           "title": {
            "standoff": 15
           },
           "zerolinecolor": "white",
           "zerolinewidth": 2
          },
          "yaxis": {
           "automargin": true,
           "gridcolor": "white",
           "linecolor": "white",
           "ticks": "",
           "title": {
            "standoff": 15
           },
           "zerolinecolor": "white",
           "zerolinewidth": 2
          }
         }
        },
        "title": {
         "text": "Slice Plot"
        },
        "width": 1200,
        "xaxis": {
         "anchor": "y",
         "domain": [
          0,
          0.2125
         ],
         "title": {
          "text": "max_depth"
         }
        },
        "xaxis2": {
         "anchor": "y2",
         "domain": [
          0.2625,
          0.475
         ],
         "title": {
          "text": "min_samples_leaf"
         }
        },
        "xaxis3": {
         "anchor": "y3",
         "domain": [
          0.525,
          0.7375
         ],
         "title": {
          "text": "min_samples_split"
         }
        },
        "xaxis4": {
         "anchor": "y4",
         "domain": [
          0.7875,
          1
         ],
         "title": {
          "text": "n_estimators"
         }
        },
        "yaxis": {
         "anchor": "x",
         "domain": [
          0,
          1
         ],
         "title": {
          "text": "Objective Value"
         }
        },
        "yaxis2": {
         "anchor": "x2",
         "domain": [
          0,
          1
         ],
         "matches": "y",
         "showticklabels": false
        },
        "yaxis3": {
         "anchor": "x3",
         "domain": [
          0,
          1
         ],
         "matches": "y",
         "showticklabels": false
        },
        "yaxis4": {
         "anchor": "x4",
         "domain": [
          0,
          1
         ],
         "matches": "y",
         "showticklabels": false
        }
       }
      }
     },
     "metadata": {},
     "output_type": "display_data"
    }
   ],
   "source": [
    "from optuna.visualization import plot_slice\n",
    "\n",
    "plot_slice(study).show()"
   ]
  },
  {
   "cell_type": "code",
   "execution_count": null,
   "metadata": {},
   "outputs": [],
   "source": []
  },
  {
   "cell_type": "markdown",
   "metadata": {},
   "source": [
    "# Dynamic Search Space"
   ]
  },
  {
   "cell_type": "code",
   "execution_count": 22,
   "metadata": {},
   "outputs": [],
   "source": [
    "#import decession tree, random forest and xgboost,support vector machine, logistic regression\n",
    "from sklearn.tree import DecisionTreeClassifier\n",
    "from sklearn.ensemble import RandomForestClassifier\n",
    "from xgboost import XGBClassifier\n",
    "from sklearn.svm import SVC\n",
    "from sklearn.linear_model import LogisticRegression\n",
    "from sklearn.metrics import accuracy_score"
   ]
  },
  {
   "cell_type": "code",
   "execution_count": 3,
   "metadata": {},
   "outputs": [
    {
     "name": "stderr",
     "output_type": "stream",
     "text": [
      "[I 2025-01-24 10:12:07,317] A new study created in memory with name: no-name-718f4572-a4b0-48b5-b80b-e9664bb884da\n"
     ]
    },
    {
     "name": "stdout",
     "output_type": "stream",
     "text": [
      "(614, 8) (154, 8) (614,) (154,)\n"
     ]
    },
    {
     "name": "stderr",
     "output_type": "stream",
     "text": [
      "[I 2025-01-24 10:12:08,687] Trial 0 finished with value: 0.7720111955217913 and parameters: {'classifier': 'XGBoost', 'xgb_n_estimators': 211, 'xgb_max_depth': 13, 'xgb_min_child_weight': 15, 'xgb_subsample': 0.6652962324455786, 'xgb_colsample_bytree': 0.7135539575676481, 'xgb_learning_rate': 0.275834472970287, 'xgb_gamma': 4.020073359456148}. Best is trial 0 with value: 0.7720111955217913.\n",
      "[I 2025-01-24 10:12:14,073] Trial 1 finished with value: 0.7818072770891643 and parameters: {'classifier': 'RandomForest', 'rf_n_estimators': 455, 'rf_max_depth': 20, 'rf_min_samples_split': 19, 'rf_min_samples_leaf': 13, 'rf_max_features': 'sqrt', 'rf_bootstrap': False}. Best is trial 1 with value: 0.7818072770891643.\n",
      "[I 2025-01-24 10:12:15,804] Trial 2 finished with value: 0.7687591630014661 and parameters: {'classifier': 'XGBoost', 'xgb_n_estimators': 336, 'xgb_max_depth': 5, 'xgb_min_child_weight': 15, 'xgb_subsample': 0.5855270079274598, 'xgb_colsample_bytree': 0.6964674110655664, 'xgb_learning_rate': 0.07818415703061207, 'xgb_gamma': 9.253099259871057}. Best is trial 1 with value: 0.7818072770891643.\n",
      "[I 2025-01-24 10:12:17,786] Trial 3 finished with value: 0.7655071304811408 and parameters: {'classifier': 'XGBoost', 'xgb_n_estimators': 412, 'xgb_max_depth': 13, 'xgb_min_child_weight': 2, 'xgb_subsample': 0.5278761065316305, 'xgb_colsample_bytree': 0.6845743211259945, 'xgb_learning_rate': 0.22268698171246176, 'xgb_gamma': 9.329707826234474}. Best is trial 1 with value: 0.7818072770891643.\n",
      "[I 2025-01-24 10:12:19,084] Trial 4 finished with value: 0.7573770491803279 and parameters: {'classifier': 'RandomForest', 'rf_n_estimators': 76, 'rf_max_depth': 2, 'rf_min_samples_split': 7, 'rf_min_samples_leaf': 16, 'rf_max_features': None, 'rf_bootstrap': True}. Best is trial 1 with value: 0.7818072770891643.\n",
      "[I 2025-01-24 10:12:20,534] Trial 5 finished with value: 0.7622417699586832 and parameters: {'classifier': 'XGBoost', 'xgb_n_estimators': 288, 'xgb_max_depth': 13, 'xgb_min_child_weight': 5, 'xgb_subsample': 0.9841845078511726, 'xgb_colsample_bytree': 0.8098649725189357, 'xgb_learning_rate': 0.2501168589762671, 'xgb_gamma': 2.545489782988879}. Best is trial 1 with value: 0.7818072770891643.\n",
      "[I 2025-01-24 10:12:20,772] Trial 6 finished with value: 0.6514594162335066 and parameters: {'classifier': 'SVM', 'svm_C': 799.187328866004, 'svm_kernel': 'rbf', 'svm_gamma_float': 8.513077553434556}. Best is trial 1 with value: 0.7818072770891643.\n",
      "[I 2025-01-24 10:12:20,812] Trial 7 finished with value: 0.7655071304811408 and parameters: {'classifier': 'LogisticRegression', 'lr_C': 411.0295200524819, 'lr_penalty': 'l1'}. Best is trial 1 with value: 0.7818072770891643.\n",
      "[I 2025-01-24 10:12:22,281] Trial 8 finished with value: 0.767119818739171 and parameters: {'classifier': 'XGBoost', 'xgb_n_estimators': 298, 'xgb_max_depth': 10, 'xgb_min_child_weight': 5, 'xgb_subsample': 0.7957740550019277, 'xgb_colsample_bytree': 0.613770045774395, 'xgb_learning_rate': 0.08814556455836856, 'xgb_gamma': 6.84109061515956}. Best is trial 1 with value: 0.7818072770891643.\n",
      "[I 2025-01-24 10:12:25,269] Trial 9 finished with value: 0.7606024256963881 and parameters: {'classifier': 'RandomForest', 'rf_n_estimators': 216, 'rf_max_depth': 5, 'rf_min_samples_split': 11, 'rf_min_samples_leaf': 15, 'rf_max_features': 'sqrt', 'rf_bootstrap': True}. Best is trial 1 with value: 0.7818072770891643.\n",
      "[I 2025-01-24 10:12:25,342] Trial 10 finished with value: 0.7198987071837932 and parameters: {'classifier': 'DecisionTree', 'dt_max_depth': 9, 'dt_min_samples_split': 11, 'dt_min_samples_leaf': 6, 'dt_max_features': 'log2', 'dt_criterion': 'entropy'}. Best is trial 1 with value: 0.7818072770891643.\n",
      "[I 2025-01-24 10:12:32,307] Trial 11 finished with value: 0.7817406370785018 and parameters: {'classifier': 'RandomForest', 'rf_n_estimators': 499, 'rf_max_depth': 19, 'rf_min_samples_split': 20, 'rf_min_samples_leaf': 3, 'rf_max_features': 'log2', 'rf_bootstrap': False}. Best is trial 1 with value: 0.7818072770891643.\n",
      "[I 2025-01-24 10:12:38,993] Trial 12 finished with value: 0.7784886045581768 and parameters: {'classifier': 'RandomForest', 'rf_n_estimators': 484, 'rf_max_depth': 20, 'rf_min_samples_split': 20, 'rf_min_samples_leaf': 1, 'rf_max_features': 'log2', 'rf_bootstrap': False}. Best is trial 1 with value: 0.7818072770891643.\n",
      "[I 2025-01-24 10:12:45,860] Trial 13 finished with value: 0.7752365720378516 and parameters: {'classifier': 'RandomForest', 'rf_n_estimators': 490, 'rf_max_depth': 20, 'rf_min_samples_split': 20, 'rf_min_samples_leaf': 6, 'rf_max_features': 'log2', 'rf_bootstrap': False}. Best is trial 1 with value: 0.7818072770891643.\n",
      "[I 2025-01-24 10:12:50,740] Trial 14 finished with value: 0.7785419165667067 and parameters: {'classifier': 'RandomForest', 'rf_n_estimators': 383, 'rf_max_depth': 14, 'rf_min_samples_split': 17, 'rf_min_samples_leaf': 10, 'rf_max_features': 'sqrt', 'rf_bootstrap': False}. Best is trial 1 with value: 0.7818072770891643.\n",
      "[I 2025-01-24 10:12:50,813] Trial 15 finished with value: 0.7655071304811408 and parameters: {'classifier': 'LogisticRegression', 'lr_C': 902.2704258650017, 'lr_penalty': 'l2'}. Best is trial 1 with value: 0.7818072770891643.\n",
      "[I 2025-01-24 10:12:50,969] Trial 16 finished with value: 0.7476076236172198 and parameters: {'classifier': 'SVM', 'svm_C': 15.933538650715889, 'svm_kernel': 'poly', 'svm_gamma_float': 0.05321640045093723, 'svm_degree': 5, 'svm_coef0': 0.63041564977137}. Best is trial 1 with value: 0.7818072770891643.\n",
      "[I 2025-01-24 10:12:51,041] Trial 17 finished with value: 0.760575769692123 and parameters: {'classifier': 'DecisionTree', 'dt_max_depth': 20, 'dt_min_samples_split': 2, 'dt_min_samples_leaf': 20, 'dt_max_features': None, 'dt_criterion': 'gini'}. Best is trial 1 with value: 0.7818072770891643.\n",
      "[I 2025-01-24 10:12:55,896] Trial 18 finished with value: 0.775223244035719 and parameters: {'classifier': 'RandomForest', 'rf_n_estimators': 360, 'rf_max_depth': 14, 'rf_min_samples_split': 16, 'rf_min_samples_leaf': 10, 'rf_max_features': 'log2', 'rf_bootstrap': False}. Best is trial 1 with value: 0.7818072770891643.\n",
      "[I 2025-01-24 10:13:02,269] Trial 19 finished with value: 0.773610555777689 and parameters: {'classifier': 'RandomForest', 'rf_n_estimators': 399, 'rf_max_depth': 17, 'rf_min_samples_split': 2, 'rf_min_samples_leaf': 2, 'rf_max_features': 'sqrt', 'rf_bootstrap': False}. Best is trial 1 with value: 0.7818072770891643.\n",
      "[I 2025-01-24 10:13:12,779] Trial 20 finished with value: 0.7638278022124483 and parameters: {'classifier': 'RandomForest', 'rf_n_estimators': 490, 'rf_max_depth': 9, 'rf_min_samples_split': 15, 'rf_min_samples_leaf': 20, 'rf_max_features': None, 'rf_bootstrap': False}. Best is trial 1 with value: 0.7818072770891643.\n",
      "[I 2025-01-24 10:13:16,901] Trial 21 finished with value: 0.7785419165667067 and parameters: {'classifier': 'RandomForest', 'rf_n_estimators': 364, 'rf_max_depth': 15, 'rf_min_samples_split': 17, 'rf_min_samples_leaf': 10, 'rf_max_features': 'sqrt', 'rf_bootstrap': False}. Best is trial 1 with value: 0.7818072770891643.\n",
      "[I 2025-01-24 10:13:21,292] Trial 22 finished with value: 0.7801812608290017 and parameters: {'classifier': 'RandomForest', 'rf_n_estimators': 396, 'rf_max_depth': 18, 'rf_min_samples_split': 20, 'rf_min_samples_leaf': 13, 'rf_max_features': 'sqrt', 'rf_bootstrap': False}. Best is trial 1 with value: 0.7818072770891643.\n",
      "[I 2025-01-24 10:13:26,313] Trial 23 finished with value: 0.7850593096094897 and parameters: {'classifier': 'RandomForest', 'rf_n_estimators': 435, 'rf_max_depth': 19, 'rf_min_samples_split': 20, 'rf_min_samples_leaf': 14, 'rf_max_features': 'sqrt', 'rf_bootstrap': False}. Best is trial 23 with value: 0.7850593096094897.\n",
      "[I 2025-01-24 10:13:26,373] Trial 24 finished with value: 0.6580034652805544 and parameters: {'classifier': 'DecisionTree', 'dt_max_depth': 1, 'dt_min_samples_split': 19, 'dt_min_samples_leaf': 2, 'dt_max_features': 'sqrt', 'dt_criterion': 'gini'}. Best is trial 23 with value: 0.7850593096094897.\n",
      "[I 2025-01-24 10:13:26,440] Trial 25 finished with value: 0.7655071304811408 and parameters: {'classifier': 'LogisticRegression', 'lr_C': 62.13940237013509, 'lr_penalty': 'l2'}. Best is trial 23 with value: 0.7850593096094897.\n",
      "[I 2025-01-24 10:13:32,512] Trial 26 finished with value: 0.7785019325603093 and parameters: {'classifier': 'RandomForest', 'rf_n_estimators': 448, 'rf_max_depth': 20, 'rf_min_samples_split': 13, 'rf_min_samples_leaf': 6, 'rf_max_features': 'log2', 'rf_bootstrap': False}. Best is trial 23 with value: 0.7850593096094897.\n",
      "[I 2025-01-24 10:13:32,603] Trial 27 finished with value: 0.6857790217246434 and parameters: {'classifier': 'SVM', 'svm_C': 196.95769243495067, 'svm_kernel': 'sigmoid', 'svm_gamma_categorical': 'scale', 'svm_coef0': 0.01593524533080959}. Best is trial 23 with value: 0.7850593096094897.\n",
      "[I 2025-01-24 10:13:36,337] Trial 28 finished with value: 0.7622284419565506 and parameters: {'classifier': 'RandomForest', 'rf_n_estimators': 284, 'rf_max_depth': 17, 'rf_min_samples_split': 20, 'rf_min_samples_leaf': 14, 'rf_max_features': 'sqrt', 'rf_bootstrap': True}. Best is trial 23 with value: 0.7850593096094897.\n",
      "[I 2025-01-24 10:13:41,046] Trial 29 finished with value: 0.7720378515260562 and parameters: {'classifier': 'RandomForest', 'rf_n_estimators': 434, 'rf_max_depth': 11, 'rf_min_samples_split': 18, 'rf_min_samples_leaf': 18, 'rf_max_features': 'sqrt', 'rf_bootstrap': False}. Best is trial 23 with value: 0.7850593096094897.\n",
      "[I 2025-01-24 10:13:44,833] Trial 30 finished with value: 0.7785285885645742 and parameters: {'classifier': 'RandomForest', 'rf_n_estimators': 284, 'rf_max_depth': 18, 'rf_min_samples_split': 13, 'rf_min_samples_leaf': 12, 'rf_max_features': 'log2', 'rf_bootstrap': False}. Best is trial 23 with value: 0.7850593096094897.\n",
      "[I 2025-01-24 10:13:49,713] Trial 31 finished with value: 0.7801812608290017 and parameters: {'classifier': 'RandomForest', 'rf_n_estimators': 427, 'rf_max_depth': 18, 'rf_min_samples_split': 20, 'rf_min_samples_leaf': 13, 'rf_max_features': 'sqrt', 'rf_bootstrap': False}. Best is trial 23 with value: 0.7850593096094897.\n",
      "[I 2025-01-24 10:13:54,818] Trial 32 finished with value: 0.7785552445688391 and parameters: {'classifier': 'RandomForest', 'rf_n_estimators': 452, 'rf_max_depth': 18, 'rf_min_samples_split': 18, 'rf_min_samples_leaf': 12, 'rf_max_features': 'sqrt', 'rf_bootstrap': False}. Best is trial 23 with value: 0.7850593096094897.\n",
      "[I 2025-01-24 10:13:58,294] Trial 33 finished with value: 0.7752898840463814 and parameters: {'classifier': 'RandomForest', 'rf_n_estimators': 327, 'rf_max_depth': 16, 'rf_min_samples_split': 19, 'rf_min_samples_leaf': 16, 'rf_max_features': 'sqrt', 'rf_bootstrap': False}. Best is trial 23 with value: 0.7850593096094897.\n",
      "[I 2025-01-24 10:14:03,296] Trial 34 finished with value: 0.783406637345062 and parameters: {'classifier': 'RandomForest', 'rf_n_estimators': 418, 'rf_max_depth': 20, 'rf_min_samples_split': 15, 'rf_min_samples_leaf': 8, 'rf_max_features': 'sqrt', 'rf_bootstrap': False}. Best is trial 23 with value: 0.7850593096094897.\n",
      "[I 2025-01-24 10:14:03,916] Trial 35 finished with value: 0.758963081434093 and parameters: {'classifier': 'XGBoost', 'xgb_n_estimators': 80, 'xgb_max_depth': 18, 'xgb_min_child_weight': 20, 'xgb_subsample': 0.9958871111259886, 'xgb_colsample_bytree': 0.5172561893356509, 'xgb_learning_rate': 0.16426902011512617, 'xgb_gamma': 0.31048252408072763}. Best is trial 23 with value: 0.7850593096094897.\n",
      "[I 2025-01-24 10:14:16,531] Trial 36 finished with value: 0.7638544582167134 and parameters: {'classifier': 'SVM', 'svm_C': 947.9692592818565, 'svm_kernel': 'linear', 'svm_gamma_categorical': 'auto'}. Best is trial 23 with value: 0.7850593096094897.\n",
      "[I 2025-01-24 10:14:16,586] Trial 37 finished with value: 0.7655071304811408 and parameters: {'classifier': 'LogisticRegression', 'lr_C': 978.9797866125557, 'lr_penalty': 'l1'}. Best is trial 23 with value: 0.7850593096094897.\n",
      "[I 2025-01-24 10:14:19,120] Trial 38 finished with value: 0.765480474476876 and parameters: {'classifier': 'XGBoost', 'xgb_n_estimators': 494, 'xgb_max_depth': 2, 'xgb_min_child_weight': 10, 'xgb_subsample': 0.8158962777290337, 'xgb_colsample_bytree': 0.9456290534620071, 'xgb_learning_rate': 0.037983059656204535, 'xgb_gamma': 6.0953022581336}. Best is trial 23 with value: 0.7850593096094897.\n",
      "[I 2025-01-24 10:14:29,846] Trial 39 finished with value: 0.7361855257896841 and parameters: {'classifier': 'RandomForest', 'rf_n_estimators': 497, 'rf_max_depth': 20, 'rf_min_samples_split': 15, 'rf_min_samples_leaf': 7, 'rf_max_features': None, 'rf_bootstrap': False}. Best is trial 23 with value: 0.7850593096094897.\n",
      "[I 2025-01-24 10:14:29,931] Trial 40 finished with value: 0.7654404904704786 and parameters: {'classifier': 'DecisionTree', 'dt_max_depth': 18, 'dt_min_samples_split': 20, 'dt_min_samples_leaf': 16, 'dt_max_features': None, 'dt_criterion': 'entropy'}. Best is trial 23 with value: 0.7850593096094897.\n",
      "[I 2025-01-24 10:14:35,400] Trial 41 finished with value: 0.7801412768226044 and parameters: {'classifier': 'RandomForest', 'rf_n_estimators': 417, 'rf_max_depth': 19, 'rf_min_samples_split': 18, 'rf_min_samples_leaf': 4, 'rf_max_features': 'sqrt', 'rf_bootstrap': False}. Best is trial 23 with value: 0.7850593096094897.\n",
      "[I 2025-01-24 10:14:41,042] Trial 42 finished with value: 0.7850459816073571 and parameters: {'classifier': 'RandomForest', 'rf_n_estimators': 449, 'rf_max_depth': 18, 'rf_min_samples_split': 20, 'rf_min_samples_leaf': 8, 'rf_max_features': 'sqrt', 'rf_bootstrap': False}. Best is trial 23 with value: 0.7850593096094897.\n",
      "[I 2025-01-24 10:14:46,686] Trial 43 finished with value: 0.7817806210848993 and parameters: {'classifier': 'RandomForest', 'rf_n_estimators': 457, 'rf_max_depth': 20, 'rf_min_samples_split': 18, 'rf_min_samples_leaf': 9, 'rf_max_features': 'sqrt', 'rf_bootstrap': False}. Best is trial 23 with value: 0.7850593096094897.\n",
      "[I 2025-01-24 10:14:51,962] Trial 44 finished with value: 0.7834199653471945 and parameters: {'classifier': 'RandomForest', 'rf_n_estimators': 449, 'rf_max_depth': 20, 'rf_min_samples_split': 18, 'rf_min_samples_leaf': 8, 'rf_max_features': 'sqrt', 'rf_bootstrap': False}. Best is trial 23 with value: 0.7850593096094897.\n",
      "[I 2025-01-24 10:14:56,517] Trial 45 finished with value: 0.7720111955217912 and parameters: {'classifier': 'RandomForest', 'rf_n_estimators': 330, 'rf_max_depth': 16, 'rf_min_samples_split': 16, 'rf_min_samples_leaf': 8, 'rf_max_features': 'sqrt', 'rf_bootstrap': True}. Best is trial 23 with value: 0.7850593096094897.\n",
      "[I 2025-01-24 10:15:01,813] Trial 46 finished with value: 0.7850326536052246 and parameters: {'classifier': 'RandomForest', 'rf_n_estimators': 449, 'rf_max_depth': 19, 'rf_min_samples_split': 14, 'rf_min_samples_leaf': 8, 'rf_max_features': 'sqrt', 'rf_bootstrap': False}. Best is trial 23 with value: 0.7850593096094897.\n",
      "[I 2025-01-24 10:15:04,054] Trial 47 finished with value: 0.7801546048247368 and parameters: {'classifier': 'RandomForest', 'rf_n_estimators': 189, 'rf_max_depth': 17, 'rf_min_samples_split': 13, 'rf_min_samples_leaf': 8, 'rf_max_features': 'sqrt', 'rf_bootstrap': False}. Best is trial 23 with value: 0.7850593096094897.\n",
      "[I 2025-01-24 10:15:04,673] Trial 48 finished with value: 0.7752499000399841 and parameters: {'classifier': 'XGBoost', 'xgb_n_estimators': 78, 'xgb_max_depth': 20, 'xgb_min_child_weight': 20, 'xgb_subsample': 0.8689319632388937, 'xgb_colsample_bytree': 0.9408598604674646, 'xgb_learning_rate': 0.17333209254596027, 'xgb_gamma': 0.2393774438295555}. Best is trial 23 with value: 0.7850593096094897.\n",
      "[I 2025-01-24 10:15:09,787] Trial 49 finished with value: 0.7817806210848992 and parameters: {'classifier': 'RandomForest', 'rf_n_estimators': 415, 'rf_max_depth': 19, 'rf_min_samples_split': 11, 'rf_min_samples_leaf': 5, 'rf_max_features': 'sqrt', 'rf_bootstrap': False}. Best is trial 23 with value: 0.7850593096094897.\n"
     ]
    }
   ],
   "source": [
    "# Import necessary libraries\n",
    "import optuna\n",
    "from sklearn.tree import DecisionTreeClassifier\n",
    "from sklearn.ensemble import RandomForestClassifier\n",
    "from xgboost import XGBClassifier\n",
    "from sklearn.svm import SVC\n",
    "from sklearn.linear_model import LogisticRegression\n",
    "from sklearn.model_selection import cross_val_score\n",
    "from sklearn.model_selection import train_test_split\n",
    "from sklearn.preprocessing import StandardScaler\n",
    "import pandas as pd\n",
    "\n",
    "# Load and prepare data\n",
    "df = pd.read_csv('diabetes.csv')  # Replace with your dataset path\n",
    "X = df.drop('Outcome', axis=1)\n",
    "y = df['Outcome']\n",
    "\n",
    "X_train, X_test, y_train, y_test = train_test_split(X, y, test_size=0.2, random_state=42)\n",
    "\n",
    "scaler = StandardScaler()\n",
    "X_train = scaler.fit_transform(X_train)\n",
    "X_test = scaler.transform(X_test)\n",
    "\n",
    "print(X_train.shape, X_test.shape, y_train.shape, y_test.shape)\n",
    "\n",
    "\n",
    "def objective(trial):\n",
    "    classifier_name = trial.suggest_categorical('classifier', ['DecisionTree', 'RandomForest', 'XGBoost', 'SVM', 'LogisticRegression'])\n",
    "\n",
    "    if classifier_name == 'DecisionTree':\n",
    "        # Define hyperparameters to search\n",
    "        max_depth = trial.suggest_int('dt_max_depth', 1, 20)\n",
    "        min_samples_split = trial.suggest_int('dt_min_samples_split', 2, 20)\n",
    "        min_samples_leaf = trial.suggest_int('dt_min_samples_leaf', 1, 20)\n",
    "        max_features = trial.suggest_categorical('dt_max_features', [None, 'sqrt', 'log2'])\n",
    "        criterion = trial.suggest_categorical('dt_criterion', ['gini', 'entropy'])\n",
    "\n",
    "        # Create Decision Tree model\n",
    "        model = DecisionTreeClassifier(\n",
    "            max_depth=max_depth,\n",
    "            min_samples_split=min_samples_split,\n",
    "            min_samples_leaf=min_samples_leaf,\n",
    "            max_features=max_features,\n",
    "            criterion=criterion,\n",
    "            random_state=42\n",
    "        )\n",
    "\n",
    "    elif classifier_name == 'RandomForest':\n",
    "        # Define hyperparameters to search\n",
    "        n_estimators = trial.suggest_int('rf_n_estimators', 50, 500)\n",
    "        max_depth = trial.suggest_int('rf_max_depth', 2, 20)\n",
    "        min_samples_split = trial.suggest_int('rf_min_samples_split', 2, 20)\n",
    "        min_samples_leaf = trial.suggest_int('rf_min_samples_leaf', 1, 20)\n",
    "        max_features = trial.suggest_categorical('rf_max_features', ['sqrt', 'log2', None])\n",
    "        bootstrap = trial.suggest_categorical('rf_bootstrap', [True, False])\n",
    "\n",
    "        model = RandomForestClassifier(\n",
    "            n_estimators=n_estimators,\n",
    "            max_depth=max_depth,\n",
    "            min_samples_split=min_samples_split,\n",
    "            min_samples_leaf=min_samples_leaf,\n",
    "            max_features=max_features,\n",
    "            bootstrap=bootstrap,\n",
    "            random_state=42\n",
    "        )\n",
    "\n",
    "    elif classifier_name == 'XGBoost':\n",
    "        # Define hyperparameters to search\n",
    "        n_estimators = trial.suggest_int('xgb_n_estimators', 50, 500)\n",
    "        max_depth = trial.suggest_int('xgb_max_depth', 2, 20)\n",
    "        min_child_weight = trial.suggest_int('xgb_min_child_weight', 1, 20)\n",
    "        subsample = trial.suggest_float('xgb_subsample', 0.5, 1.0)\n",
    "        colsample_bytree = trial.suggest_float('xgb_colsample_bytree', 0.5, 1.0)\n",
    "        learning_rate = trial.suggest_float('xgb_learning_rate', 0.01, 0.3)\n",
    "        gamma = trial.suggest_float('xgb_gamma', 0, 10)\n",
    "\n",
    "        model = XGBClassifier(\n",
    "            n_estimators=n_estimators,\n",
    "            max_depth=max_depth,\n",
    "            learning_rate=learning_rate,\n",
    "            subsample=subsample,\n",
    "            colsample_bytree=colsample_bytree,\n",
    "            min_child_weight=min_child_weight,\n",
    "            gamma=gamma,\n",
    "            random_state=42\n",
    "        )\n",
    "\n",
    "    elif classifier_name == 'SVM':\n",
    "        # Define hyperparameters to search\n",
    "        C = trial.suggest_float('svm_C', 1e-3, 1e3)\n",
    "        kernel = trial.suggest_categorical('svm_kernel', ['linear', 'poly', 'rbf', 'sigmoid'])\n",
    "        \n",
    "        # Use separate parameter names for categorical and float gamma\n",
    "        if kernel in ['linear', 'sigmoid']:\n",
    "            gamma = trial.suggest_categorical('svm_gamma_categorical', ['scale', 'auto'])\n",
    "        else:\n",
    "            gamma = trial.suggest_float('svm_gamma_float', 0.001, 10)\n",
    "\n",
    "        degree = trial.suggest_int('svm_degree', 2, 5) if kernel == 'poly' else 3\n",
    "        coef0 = trial.suggest_float('svm_coef0', 0.0, 1.0) if kernel in ['poly', 'sigmoid'] else 0.0\n",
    "\n",
    "        model = SVC(\n",
    "            C=C,\n",
    "            kernel=kernel,\n",
    "            degree=degree,\n",
    "            gamma=gamma,\n",
    "            coef0=coef0,\n",
    "            random_state=42\n",
    "        )\n",
    "    elif classifier_name == 'LogisticRegression':\n",
    "        # Define hyperparameters to search\n",
    "        C = trial.suggest_float('lr_C', 1e-3, 1e3)\n",
    "        penalty = trial.suggest_categorical('lr_penalty', ['l1', 'l2'])\n",
    "        solver = 'liblinear' if penalty == 'l1' else 'lbfgs'\n",
    "\n",
    "        model = LogisticRegression(\n",
    "            C=C,\n",
    "            penalty=penalty,\n",
    "            solver=solver,\n",
    "            random_state=42\n",
    "        )\n",
    "    \n",
    "    score = cross_val_score(model, X_train, y_train, cv=5).mean()\n",
    "\n",
    "    return score\n",
    "\n",
    "study = optuna.create_study(direction='maximize', sampler=optuna.samplers.TPESampler())\n",
    "study.optimize(objective, n_trials=50)"
   ]
  },
  {
   "cell_type": "code",
   "execution_count": 6,
   "metadata": {},
   "outputs": [
    {
     "name": "stdout",
     "output_type": "stream",
     "text": [
      "Best trial:\n",
      "{'classifier': 'RandomForest', 'rf_n_estimators': 435, 'rf_max_depth': 19, 'rf_min_samples_split': 20, 'rf_min_samples_leaf': 14, 'rf_max_features': 'sqrt', 'rf_bootstrap': False}\n",
      "Best score:\n",
      "0.7850593096094897\n"
     ]
    }
   ],
   "source": [
    "best_trail = study.best_trial\n",
    "\n",
    "print('Best trial:')\n",
    "print(best_trail.params)\n",
    "print('Best score:')\n",
    "print(best_trail.value)"
   ]
  },
  {
   "cell_type": "code",
   "execution_count": null,
   "metadata": {},
   "outputs": [],
   "source": []
  }
 ],
 "metadata": {
  "kernelspec": {
   "display_name": "Python 3",
   "language": "python",
   "name": "python3"
  },
  "language_info": {
   "codemirror_mode": {
    "name": "ipython",
    "version": 3
   },
   "file_extension": ".py",
   "mimetype": "text/x-python",
   "name": "python",
   "nbconvert_exporter": "python",
   "pygments_lexer": "ipython3",
   "version": "3.10.0"
  }
 },
 "nbformat": 4,
 "nbformat_minor": 2
}
